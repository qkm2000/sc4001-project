{
 "cells": [
  {
   "cell_type": "markdown",
   "metadata": {},
   "source": [
    "# Data prep\n",
    "\n",
    "This notebook is used for preparing the data, and splitting it into the train, test, and benchmark sets"
   ]
  },
  {
   "cell_type": "code",
   "execution_count": 1,
   "metadata": {},
   "outputs": [],
   "source": [
    "# imports\n",
    "from sklearn.model_selection import train_test_split\n",
    "import pandas as pd"
   ]
  },
  {
   "cell_type": "code",
   "execution_count": null,
   "metadata": {},
   "outputs": [],
   "source": [
    "# setting up the import paths\n",
    "phiusiil = r\"datasets\\PhiUSIIL_Phishing_URL_Dataset.csv\"\n",
    "malicious_phish = r\"datasets\\malicious_phish.csv\"\n",
    "url_dataset = r\"datasets\\URL dataset.csv\"\n",
    "\n",
    "# choose which dataset to import here\n",
    "to_import = \"url_dataset\"\n",
    "\n",
    "# choose the fraction of data that will be used for train/val/test\n",
    "# malicious_phish: 0.03\n",
    "# phiusiil: 0.1\n",
    "# url_dataset: 0.04\n",
    "fraction = 0.04\n",
    "\n",
    "# import dataset\n",
    "if to_import == \"phiusiil\":\n",
    "    dataset = pd.read_csv(phiusiil)\n",
    "elif to_import == \"malicious_phish\":\n",
    "    dataset = pd.read_csv(malicious_phish)\n",
    "elif to_import == \"url_dataset\":\n",
    "    dataset = pd.read_csv(url_dataset)\n",
    "dataset.head()"
   ]
  },
  {
   "cell_type": "markdown",
   "metadata": {},
   "source": [
    "## malicious_phish"
   ]
  },
  {
   "cell_type": "code",
   "execution_count": 3,
   "metadata": {},
   "outputs": [],
   "source": [
    "if to_import == \"malicious_phish\":\n",
    "    labels = dataset[\"type\"].unique().tolist()\n",
    "    label_array = {\n",
    "        \"benign\": 0,\n",
    "        \"phishing\": 1,\n",
    "        \"defacement\": 1,\n",
    "        \"malware\": 1\n",
    "    }\n",
    "    dataset[\"type\"] = dataset[\"type\"].map(label_array)\n",
    "    dataset.rename(columns={\"type\": \"label\"}, inplace=True)"
   ]
  },
  {
   "cell_type": "markdown",
   "metadata": {},
   "source": [
    "## phiusill"
   ]
  },
  {
   "cell_type": "code",
   "execution_count": 4,
   "metadata": {},
   "outputs": [],
   "source": [
    "if to_import == \"phiusiil\":\n",
    "    dataset = dataset[[\"URL\", \"label\"]]\n",
    "    dataset.rename(columns={\"URL\": \"url\"}, inplace=True)\n",
    "    dataset[\"label\"] = dataset[\"label\"].apply(lambda x: 0 if x == 1 else 1)"
   ]
  },
  {
   "cell_type": "markdown",
   "metadata": {},
   "source": [
    "## url_dataset"
   ]
  },
  {
   "cell_type": "code",
   "execution_count": 5,
   "metadata": {},
   "outputs": [],
   "source": [
    "if to_import == \"url_dataset\":\n",
    "    labels = dataset[\"type\"].unique().tolist()\n",
    "    label_array = {\n",
    "        \"legitimate\": 0,\n",
    "        \"phishing\": 1,\n",
    "    }\n",
    "    dataset[\"type\"] = dataset[\"type\"].map(label_array)\n",
    "    dataset.rename(columns={\"type\": \"label\"}, inplace=True)"
   ]
  },
  {
   "cell_type": "markdown",
   "metadata": {},
   "source": [
    "## final processing"
   ]
  },
  {
   "cell_type": "code",
   "execution_count": 6,
   "metadata": {},
   "outputs": [],
   "source": [
    "benign = dataset[dataset[\"label\"] == 0].sample(frac=fraction, random_state=42)\n",
    "malicious = dataset[dataset[\"label\"] == 1].sample(frac=fraction, random_state=42)\n",
    "\n",
    "# Split the benign data\n",
    "benign_train, benign_temp = train_test_split(benign, test_size=0.2, random_state=42)\n",
    "benign_val, benign_benchmark = train_test_split(benign_temp, test_size=0.5, random_state=42)\n",
    "\n",
    "# Split the malicious data\n",
    "malicious_train, malicious_temp = train_test_split(malicious, test_size=0.2, random_state=42)\n",
    "malicious_val, malicious_benchmark = train_test_split(malicious_temp, test_size=0.5, random_state=42)\n",
    "\n",
    "# Combine the train, validation, and benchmark datasets\n",
    "train = pd.concat([benign_train, malicious_train])\n",
    "validation = pd.concat([benign_val, malicious_val])\n",
    "benchmark = pd.concat([benign_benchmark, malicious_benchmark])\n",
    "\n",
    "train.reset_index(drop=True, inplace=True)\n",
    "validation.reset_index(drop=True, inplace=True)\n",
    "benchmark.reset_index(drop=True, inplace=True)"
   ]
  },
  {
   "cell_type": "markdown",
   "metadata": {},
   "source": [
    "## data.head()"
   ]
  },
  {
   "cell_type": "code",
   "execution_count": null,
   "metadata": {},
   "outputs": [],
   "source": [
    "train.head()"
   ]
  },
  {
   "cell_type": "code",
   "execution_count": null,
   "metadata": {},
   "outputs": [],
   "source": [
    "train[\"label\"].value_counts()"
   ]
  },
  {
   "cell_type": "code",
   "execution_count": null,
   "metadata": {},
   "outputs": [],
   "source": [
    "validation.head()"
   ]
  },
  {
   "cell_type": "code",
   "execution_count": null,
   "metadata": {},
   "outputs": [],
   "source": [
    "validation[\"label\"].value_counts()"
   ]
  },
  {
   "cell_type": "code",
   "execution_count": null,
   "metadata": {},
   "outputs": [],
   "source": [
    "benchmark.head()"
   ]
  },
  {
   "cell_type": "code",
   "execution_count": null,
   "metadata": {},
   "outputs": [],
   "source": [
    "benchmark[\"label\"].value_counts()"
   ]
  },
  {
   "cell_type": "code",
   "execution_count": 13,
   "metadata": {},
   "outputs": [],
   "source": [
    "train.to_csv(f\"datasets/train.csv\", index=False)\n",
    "validation.to_csv(f\"datasets/validation.csv\", index=False)\n",
    "benchmark.to_csv(f\"datasets/benchmark.csv\", index=False)"
   ]
  }
 ],
 "metadata": {
  "kernelspec": {
   "display_name": "sc4001-project",
   "language": "python",
   "name": "python3"
  },
  "language_info": {
   "codemirror_mode": {
    "name": "ipython",
    "version": 3
   },
   "file_extension": ".py",
   "mimetype": "text/x-python",
   "name": "python",
   "nbconvert_exporter": "python",
   "pygments_lexer": "ipython3",
   "version": "3.12.7"
  }
 },
 "nbformat": 4,
 "nbformat_minor": 2
}
