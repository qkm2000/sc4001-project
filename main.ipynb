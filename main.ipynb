{
 "cells": [
  {
   "cell_type": "markdown",
   "metadata": {},
   "source": [
    "# ByT5 Model"
   ]
  },
  {
   "cell_type": "code",
   "execution_count": 1,
   "metadata": {},
   "outputs": [],
   "source": [
    "# imports\n",
    "from transformers import TrainingArguments, ByT5Tokenizer\n",
    "from sklearn.metrics import roc_curve, auc\n",
    "from utils import ByT5_model, ByT5_utils\n",
    "from dotenv import load_dotenv\n",
    "import matplotlib.pyplot as plt\n",
    "import pandas as pd\n",
    "import numpy as np\n",
    "import torch\n",
    "import os"
   ]
  },
  {
   "cell_type": "code",
   "execution_count": 2,
   "metadata": {},
   "outputs": [],
   "source": [
    "load_dotenv()\n",
    "\n",
    "# CONSTANTS\n",
    "SAVE = True\n",
    "VERSION = \"v1\"\n",
    "RESULTS_PATH = os.getenv(\"RESULTS_PATH\")\n",
    "MODEL_PATH = os.getenv(\"MODEL_PATH\")"
   ]
  },
  {
   "cell_type": "code",
   "execution_count": 3,
   "metadata": {},
   "outputs": [
    {
     "name": "stdout",
     "output_type": "stream",
     "text": [
      "5208 training samples\n",
      "651 validation samples\n",
      "653 benchmark samples\n"
     ]
    }
   ],
   "source": [
    "# load data\n",
    "# need to put in our data here. the data format expects the following format:\n",
    "# url, label\n",
    "# url is the whole url\n",
    "# label is 0 for non-phishing, and 1 for phishing\n",
    "\n",
    "train_data = pd.read_csv(\"datasets/train.csv\")\n",
    "val_data = pd.read_csv(\"datasets/validation.csv\")\n",
    "bench_data = pd.read_csv(\"datasets/benchmark.csv\")\n",
    "\n",
    "print(f\"{len(train_data)} training samples\")\n",
    "print(f\"{len(val_data)} validation samples\")\n",
    "print(f\"{len(bench_data)} benchmark samples\")"
   ]
  },
  {
   "cell_type": "code",
   "execution_count": 4,
   "metadata": {},
   "outputs": [
    {
     "name": "stdout",
     "output_type": "stream",
     "text": [
      "Training and validation data value count:\n",
      "phishing: 2007\n",
      "benign: 3852\n",
      "Benchmark data value count:\n",
      "phishing: 224\n",
      "benign: 429\n"
     ]
    }
   ],
   "source": [
    "# training data\n",
    "train_count = train_data[\"label\"].value_counts()\n",
    "val_count = val_data[\"label\"].value_counts()\n",
    "phish_count = train_count[1] + val_count[1]\n",
    "benign_count = train_count[0] + val_count[0]\n",
    "print(f\"Training and validation data value count:\\nphishing: {phish_count}\\nbenign: {benign_count}\")\n",
    "\n",
    "# benchmark data\n",
    "bench_count = bench_data[\"label\"].value_counts()\n",
    "phish_count = bench_count[1]\n",
    "benign_count = bench_count[0]\n",
    "print(f\"Benchmark data value count:\\nphishing: {phish_count}\\nbenign: {benign_count}\")"
   ]
  },
  {
   "cell_type": "code",
   "execution_count": 5,
   "metadata": {},
   "outputs": [],
   "source": [
    "# intialise model, tokenizer\n",
    "model = ByT5_model.ByT5ForClassification(\n",
    "    model_name='google/byt5-small',\n",
    "    num_labels=2,\n",
    ")\n",
    "tokenizer = ByT5Tokenizer.from_pretrained('google/byt5-small')"
   ]
  },
  {
   "cell_type": "code",
   "execution_count": 6,
   "metadata": {},
   "outputs": [],
   "source": [
    "# hyperparameters\n",
    "BATCH_SIZE = 128\n",
    "training_args = TrainingArguments(\n",
    "    # saving results/checkpoints\n",
    "    output_dir=RESULTS_PATH,\n",
    "    save_safetensors=False,\n",
    "\n",
    "    # evaluation\n",
    "    eval_strategy=\"epoch\",\n",
    "    eval_steps=1,\n",
    "    load_best_model_at_end=True,\n",
    "    metric_for_best_model='eval_loss',\n",
    "    greater_is_better=False,\n",
    "    \n",
    "    # saving\n",
    "    save_strategy=\"epoch\",\n",
    "    save_steps=1,\n",
    "    save_total_limit=3,\n",
    "\n",
    "    # hyperparameters\n",
    "    learning_rate=0.005,\n",
    "    per_device_train_batch_size=BATCH_SIZE,\n",
    "    per_device_eval_batch_size=BATCH_SIZE,\n",
    "    num_train_epochs=100,\n",
    "    weight_decay=0.01,\n",
    ")"
   ]
  },
  {
   "cell_type": "code",
   "execution_count": 7,
   "metadata": {},
   "outputs": [
    {
     "name": "stdout",
     "output_type": "stream",
     "text": [
      "Preparing data...\n"
     ]
    },
    {
     "data": {
      "application/vnd.jupyter.widget-view+json": {
       "model_id": "2f8b438871c1403c964f348e4aa1f8b8",
       "version_major": 2,
       "version_minor": 0
      },
      "text/plain": [
       "Map:   0%|          | 0/5208 [00:00<?, ? examples/s]"
      ]
     },
     "metadata": {},
     "output_type": "display_data"
    },
    {
     "data": {
      "application/vnd.jupyter.widget-view+json": {
       "model_id": "40c09c729494455a985bccb4ffd2db3b",
       "version_major": 2,
       "version_minor": 0
      },
      "text/plain": [
       "Map:   0%|          | 0/651 [00:00<?, ? examples/s]"
      ]
     },
     "metadata": {},
     "output_type": "display_data"
    },
    {
     "name": "stdout",
     "output_type": "stream",
     "text": [
      "Data prepared.\n"
     ]
    },
    {
     "data": {
      "application/vnd.jupyter.widget-view+json": {
       "model_id": "f6b28e0190824c1ea7b29d4d89d557b9",
       "version_major": 2,
       "version_minor": 0
      },
      "text/plain": [
       "  0%|          | 0/4100 [00:00<?, ?it/s]"
      ]
     },
     "metadata": {},
     "output_type": "display_data"
    },
    {
     "name": "stdout",
     "output_type": "stream",
     "text": [
      "Starting training\n"
     ]
    },
    {
     "data": {
      "application/vnd.jupyter.widget-view+json": {
       "model_id": "9e5cd079c36c4299878349d9bf06515c",
       "version_major": 2,
       "version_minor": 0
      },
      "text/plain": [
       "  0%|          | 0/6 [00:00<?, ?it/s]"
      ]
     },
     "metadata": {},
     "output_type": "display_data"
    },
    {
     "name": "stdout",
     "output_type": "stream",
     "text": [
      "{'eval_loss': 0.4431346356868744, 'eval_runtime': 1.4148, 'eval_samples_per_second': 460.138, 'eval_steps_per_second': 4.241, 'epoch': 1.0}\n"
     ]
    },
    {
     "data": {
      "application/vnd.jupyter.widget-view+json": {
       "model_id": "0e6baccc43b44b43bc545dc92fcad740",
       "version_major": 2,
       "version_minor": 0
      },
      "text/plain": [
       "  0%|          | 0/6 [00:00<?, ?it/s]"
      ]
     },
     "metadata": {},
     "output_type": "display_data"
    },
    {
     "name": "stdout",
     "output_type": "stream",
     "text": [
      "{'eval_loss': 0.34799665212631226, 'eval_runtime': 1.4034, 'eval_samples_per_second': 463.858, 'eval_steps_per_second': 4.275, 'epoch': 2.0}\n"
     ]
    },
    {
     "data": {
      "application/vnd.jupyter.widget-view+json": {
       "model_id": "08fffdf1e62c4c9890a178b188f7cd73",
       "version_major": 2,
       "version_minor": 0
      },
      "text/plain": [
       "  0%|          | 0/6 [00:00<?, ?it/s]"
      ]
     },
     "metadata": {},
     "output_type": "display_data"
    },
    {
     "name": "stdout",
     "output_type": "stream",
     "text": [
      "{'eval_loss': 0.32111096382141113, 'eval_runtime': 1.4111, 'eval_samples_per_second': 461.358, 'eval_steps_per_second': 4.252, 'epoch': 3.0}\n"
     ]
    },
    {
     "data": {
      "application/vnd.jupyter.widget-view+json": {
       "model_id": "682558794cc24b31b69ef91a3a241758",
       "version_major": 2,
       "version_minor": 0
      },
      "text/plain": [
       "  0%|          | 0/6 [00:00<?, ?it/s]"
      ]
     },
     "metadata": {},
     "output_type": "display_data"
    },
    {
     "name": "stdout",
     "output_type": "stream",
     "text": [
      "{'eval_loss': 0.35089951753616333, 'eval_runtime': 1.4189, 'eval_samples_per_second': 458.821, 'eval_steps_per_second': 4.229, 'epoch': 4.0}\n"
     ]
    },
    {
     "data": {
      "application/vnd.jupyter.widget-view+json": {
       "model_id": "8c027df8a6c04fec99566e2477aefb4e",
       "version_major": 2,
       "version_minor": 0
      },
      "text/plain": [
       "  0%|          | 0/6 [00:00<?, ?it/s]"
      ]
     },
     "metadata": {},
     "output_type": "display_data"
    },
    {
     "name": "stdout",
     "output_type": "stream",
     "text": [
      "{'eval_loss': 0.2908119857311249, 'eval_runtime': 1.4209, 'eval_samples_per_second': 458.169, 'eval_steps_per_second': 4.223, 'epoch': 5.0}\n"
     ]
    },
    {
     "data": {
      "application/vnd.jupyter.widget-view+json": {
       "model_id": "062cb964a3e3498c849250c5b8e8491b",
       "version_major": 2,
       "version_minor": 0
      },
      "text/plain": [
       "  0%|          | 0/6 [00:00<?, ?it/s]"
      ]
     },
     "metadata": {},
     "output_type": "display_data"
    },
    {
     "name": "stdout",
     "output_type": "stream",
     "text": [
      "{'eval_loss': 0.2887691855430603, 'eval_runtime': 1.4259, 'eval_samples_per_second': 456.553, 'eval_steps_per_second': 4.208, 'epoch': 6.0}\n"
     ]
    },
    {
     "data": {
      "application/vnd.jupyter.widget-view+json": {
       "model_id": "0b0571a8704d4622ab45a871eb399ed8",
       "version_major": 2,
       "version_minor": 0
      },
      "text/plain": [
       "  0%|          | 0/6 [00:00<?, ?it/s]"
      ]
     },
     "metadata": {},
     "output_type": "display_data"
    },
    {
     "name": "stdout",
     "output_type": "stream",
     "text": [
      "{'eval_loss': 0.25673267245292664, 'eval_runtime': 1.3745, 'eval_samples_per_second': 473.62, 'eval_steps_per_second': 4.365, 'epoch': 7.0}\n"
     ]
    },
    {
     "data": {
      "application/vnd.jupyter.widget-view+json": {
       "model_id": "b754779c86ad4b11bbcbab68705c5717",
       "version_major": 2,
       "version_minor": 0
      },
      "text/plain": [
       "  0%|          | 0/6 [00:00<?, ?it/s]"
      ]
     },
     "metadata": {},
     "output_type": "display_data"
    },
    {
     "name": "stdout",
     "output_type": "stream",
     "text": [
      "{'eval_loss': 0.26636409759521484, 'eval_runtime': 1.4067, 'eval_samples_per_second': 462.782, 'eval_steps_per_second': 4.265, 'epoch': 8.0}\n"
     ]
    },
    {
     "data": {
      "application/vnd.jupyter.widget-view+json": {
       "model_id": "a6bb51783beb480e8180ba33d1ee996f",
       "version_major": 2,
       "version_minor": 0
      },
      "text/plain": [
       "  0%|          | 0/6 [00:00<?, ?it/s]"
      ]
     },
     "metadata": {},
     "output_type": "display_data"
    },
    {
     "name": "stdout",
     "output_type": "stream",
     "text": [
      "{'eval_loss': 0.2500650882720947, 'eval_runtime': 1.4084, 'eval_samples_per_second': 462.239, 'eval_steps_per_second': 4.26, 'epoch': 9.0}\n"
     ]
    },
    {
     "data": {
      "application/vnd.jupyter.widget-view+json": {
       "model_id": "f7a4e6a97c5548e5affc87310a5cbddd",
       "version_major": 2,
       "version_minor": 0
      },
      "text/plain": [
       "  0%|          | 0/6 [00:00<?, ?it/s]"
      ]
     },
     "metadata": {},
     "output_type": "display_data"
    },
    {
     "name": "stdout",
     "output_type": "stream",
     "text": [
      "{'eval_loss': 0.24593056738376617, 'eval_runtime': 1.4195, 'eval_samples_per_second': 458.615, 'eval_steps_per_second': 4.227, 'epoch': 10.0}\n"
     ]
    },
    {
     "data": {
      "application/vnd.jupyter.widget-view+json": {
       "model_id": "3209de3cc26e4b2782802eda0a8e1c23",
       "version_major": 2,
       "version_minor": 0
      },
      "text/plain": [
       "  0%|          | 0/6 [00:00<?, ?it/s]"
      ]
     },
     "metadata": {},
     "output_type": "display_data"
    },
    {
     "name": "stdout",
     "output_type": "stream",
     "text": [
      "{'eval_loss': 0.24454852938652039, 'eval_runtime': 1.4055, 'eval_samples_per_second': 463.19, 'eval_steps_per_second': 4.269, 'epoch': 11.0}\n"
     ]
    },
    {
     "data": {
      "application/vnd.jupyter.widget-view+json": {
       "model_id": "07ea44fcb1304958899ad36a47b722f7",
       "version_major": 2,
       "version_minor": 0
      },
      "text/plain": [
       "  0%|          | 0/6 [00:00<?, ?it/s]"
      ]
     },
     "metadata": {},
     "output_type": "display_data"
    },
    {
     "name": "stdout",
     "output_type": "stream",
     "text": [
      "{'eval_loss': 0.2575210928916931, 'eval_runtime': 1.3831, 'eval_samples_per_second': 470.685, 'eval_steps_per_second': 4.338, 'epoch': 12.0}\n",
      "{'loss': 0.3784, 'grad_norm': 0.25080981850624084, 'learning_rate': 0.004390243902439025, 'epoch': 12.2}\n"
     ]
    },
    {
     "data": {
      "application/vnd.jupyter.widget-view+json": {
       "model_id": "c23d0640da0c4b7ca2a0099f09bb283f",
       "version_major": 2,
       "version_minor": 0
      },
      "text/plain": [
       "  0%|          | 0/6 [00:00<?, ?it/s]"
      ]
     },
     "metadata": {},
     "output_type": "display_data"
    },
    {
     "name": "stdout",
     "output_type": "stream",
     "text": [
      "{'eval_loss': 0.25200048089027405, 'eval_runtime': 1.3874, 'eval_samples_per_second': 469.229, 'eval_steps_per_second': 4.325, 'epoch': 13.0}\n"
     ]
    },
    {
     "data": {
      "application/vnd.jupyter.widget-view+json": {
       "model_id": "3f5cd61ea0c04a859271beb06529bd16",
       "version_major": 2,
       "version_minor": 0
      },
      "text/plain": [
       "  0%|          | 0/6 [00:00<?, ?it/s]"
      ]
     },
     "metadata": {},
     "output_type": "display_data"
    },
    {
     "name": "stdout",
     "output_type": "stream",
     "text": [
      "{'eval_loss': 0.24161037802696228, 'eval_runtime': 1.4218, 'eval_samples_per_second': 457.865, 'eval_steps_per_second': 4.22, 'epoch': 14.0}\n"
     ]
    },
    {
     "data": {
      "application/vnd.jupyter.widget-view+json": {
       "model_id": "b2b7c6840ed94c28aedf130ae899ea62",
       "version_major": 2,
       "version_minor": 0
      },
      "text/plain": [
       "  0%|          | 0/6 [00:00<?, ?it/s]"
      ]
     },
     "metadata": {},
     "output_type": "display_data"
    },
    {
     "name": "stdout",
     "output_type": "stream",
     "text": [
      "{'eval_loss': 0.22971853613853455, 'eval_runtime': 1.3845, 'eval_samples_per_second': 470.19, 'eval_steps_per_second': 4.334, 'epoch': 15.0}\n"
     ]
    },
    {
     "data": {
      "application/vnd.jupyter.widget-view+json": {
       "model_id": "1051758bc1104a5c96b6e536eb425a49",
       "version_major": 2,
       "version_minor": 0
      },
      "text/plain": [
       "  0%|          | 0/6 [00:00<?, ?it/s]"
      ]
     },
     "metadata": {},
     "output_type": "display_data"
    },
    {
     "name": "stdout",
     "output_type": "stream",
     "text": [
      "{'eval_loss': 0.2344895899295807, 'eval_runtime': 1.3874, 'eval_samples_per_second': 469.224, 'eval_steps_per_second': 4.325, 'epoch': 16.0}\n"
     ]
    },
    {
     "data": {
      "application/vnd.jupyter.widget-view+json": {
       "model_id": "8a872a948fd1441bbe6b42312827a3bc",
       "version_major": 2,
       "version_minor": 0
      },
      "text/plain": [
       "  0%|          | 0/6 [00:00<?, ?it/s]"
      ]
     },
     "metadata": {},
     "output_type": "display_data"
    },
    {
     "name": "stdout",
     "output_type": "stream",
     "text": [
      "{'eval_loss': 0.23561492562294006, 'eval_runtime': 1.3863, 'eval_samples_per_second': 469.597, 'eval_steps_per_second': 4.328, 'epoch': 17.0}\n"
     ]
    },
    {
     "data": {
      "application/vnd.jupyter.widget-view+json": {
       "model_id": "d097da54522547a0806bfb53cdb77ac5",
       "version_major": 2,
       "version_minor": 0
      },
      "text/plain": [
       "  0%|          | 0/6 [00:00<?, ?it/s]"
      ]
     },
     "metadata": {},
     "output_type": "display_data"
    },
    {
     "name": "stdout",
     "output_type": "stream",
     "text": [
      "{'eval_loss': 0.20965416729450226, 'eval_runtime': 1.417, 'eval_samples_per_second': 459.427, 'eval_steps_per_second': 4.234, 'epoch': 18.0}\n"
     ]
    },
    {
     "data": {
      "application/vnd.jupyter.widget-view+json": {
       "model_id": "c206ed8486244fcbb98ca3ddd4809af0",
       "version_major": 2,
       "version_minor": 0
      },
      "text/plain": [
       "  0%|          | 0/6 [00:00<?, ?it/s]"
      ]
     },
     "metadata": {},
     "output_type": "display_data"
    },
    {
     "name": "stdout",
     "output_type": "stream",
     "text": [
      "{'eval_loss': 0.20711544156074524, 'eval_runtime': 1.3926, 'eval_samples_per_second': 467.479, 'eval_steps_per_second': 4.309, 'epoch': 19.0}\n"
     ]
    },
    {
     "data": {
      "application/vnd.jupyter.widget-view+json": {
       "model_id": "563d16265f5c43f48a2c77329aec861a",
       "version_major": 2,
       "version_minor": 0
      },
      "text/plain": [
       "  0%|          | 0/6 [00:00<?, ?it/s]"
      ]
     },
     "metadata": {},
     "output_type": "display_data"
    },
    {
     "name": "stdout",
     "output_type": "stream",
     "text": [
      "{'eval_loss': 0.2165616899728775, 'eval_runtime': 1.381, 'eval_samples_per_second': 471.391, 'eval_steps_per_second': 4.345, 'epoch': 20.0}\n"
     ]
    },
    {
     "data": {
      "application/vnd.jupyter.widget-view+json": {
       "model_id": "9980717a32db4c38b83cf2cafd995f0e",
       "version_major": 2,
       "version_minor": 0
      },
      "text/plain": [
       "  0%|          | 0/6 [00:00<?, ?it/s]"
      ]
     },
     "metadata": {},
     "output_type": "display_data"
    },
    {
     "name": "stdout",
     "output_type": "stream",
     "text": [
      "{'eval_loss': 0.18804967403411865, 'eval_runtime': 1.3862, 'eval_samples_per_second': 469.618, 'eval_steps_per_second': 4.328, 'epoch': 21.0}\n"
     ]
    },
    {
     "data": {
      "application/vnd.jupyter.widget-view+json": {
       "model_id": "7605a07e40924f48b26e0b4550bb4ddb",
       "version_major": 2,
       "version_minor": 0
      },
      "text/plain": [
       "  0%|          | 0/6 [00:00<?, ?it/s]"
      ]
     },
     "metadata": {},
     "output_type": "display_data"
    },
    {
     "name": "stdout",
     "output_type": "stream",
     "text": [
      "{'eval_loss': 0.18096239864826202, 'eval_runtime': 1.3825, 'eval_samples_per_second': 470.889, 'eval_steps_per_second': 4.34, 'epoch': 22.0}\n"
     ]
    },
    {
     "data": {
      "application/vnd.jupyter.widget-view+json": {
       "model_id": "0c49cf747875427f95b8025074db42be",
       "version_major": 2,
       "version_minor": 0
      },
      "text/plain": [
       "  0%|          | 0/6 [00:00<?, ?it/s]"
      ]
     },
     "metadata": {},
     "output_type": "display_data"
    },
    {
     "name": "stdout",
     "output_type": "stream",
     "text": [
      "{'eval_loss': 0.19306470453739166, 'eval_runtime': 1.3926, 'eval_samples_per_second': 467.478, 'eval_steps_per_second': 4.309, 'epoch': 23.0}\n"
     ]
    },
    {
     "data": {
      "application/vnd.jupyter.widget-view+json": {
       "model_id": "d6f012d173ef4ae9aaf25411af7104c3",
       "version_major": 2,
       "version_minor": 0
      },
      "text/plain": [
       "  0%|          | 0/6 [00:00<?, ?it/s]"
      ]
     },
     "metadata": {},
     "output_type": "display_data"
    },
    {
     "name": "stdout",
     "output_type": "stream",
     "text": [
      "{'eval_loss': 0.20274782180786133, 'eval_runtime': 1.39, 'eval_samples_per_second': 468.357, 'eval_steps_per_second': 4.317, 'epoch': 24.0}\n",
      "{'loss': 0.3117, 'grad_norm': 0.14073626697063446, 'learning_rate': 0.003780487804878049, 'epoch': 24.39}\n"
     ]
    },
    {
     "data": {
      "application/vnd.jupyter.widget-view+json": {
       "model_id": "df0b6da58c9e410c8870deb756f2241c",
       "version_major": 2,
       "version_minor": 0
      },
      "text/plain": [
       "  0%|          | 0/6 [00:00<?, ?it/s]"
      ]
     },
     "metadata": {},
     "output_type": "display_data"
    },
    {
     "name": "stdout",
     "output_type": "stream",
     "text": [
      "{'eval_loss': 0.19070561230182648, 'eval_runtime': 1.3951, 'eval_samples_per_second': 466.634, 'eval_steps_per_second': 4.301, 'epoch': 25.0}\n",
      "{'train_runtime': 369.1761, 'train_samples_per_second': 1410.709, 'train_steps_per_second': 11.106, 'train_loss': 0.3435537491775141, 'epoch': 25.0}\n",
      "Training ended\n"
     ]
    }
   ],
   "source": [
    "# training loop\n",
    "trainer = ByT5_utils.train_ByT5(\n",
    "    model=model,\n",
    "    tokenizer=tokenizer,\n",
    "    train_data=train_data,\n",
    "    val_data=val_data,\n",
    "    training_args=training_args,\n",
    "    patience=3,\n",
    "    )"
   ]
  },
  {
   "cell_type": "code",
   "execution_count": 8,
   "metadata": {},
   "outputs": [],
   "source": [
    "# saving model\n",
    "if SAVE:\n",
    "    torch.save(\n",
    "        model.state_dict(),\n",
    "        f\"{MODEL_PATH}/byt5-model-{VERSION}.pth\"\n",
    "    )\n",
    "    tokenizer.save_pretrained(f\"{MODEL_PATH}/byt5-tokenizer-{VERSION}\")"
   ]
  },
  {
   "cell_type": "code",
   "execution_count": 9,
   "metadata": {},
   "outputs": [
    {
     "name": "stderr",
     "output_type": "stream",
     "text": [
      "C:\\Users\\qkm20\\AppData\\Local\\Temp\\ipykernel_23796\\3685560557.py:4: FutureWarning: You are using `torch.load` with `weights_only=False` (the current default value), which uses the default pickle module implicitly. It is possible to construct malicious pickle data which will execute arbitrary code during unpickling (See https://github.com/pytorch/pytorch/blob/main/SECURITY.md#untrusted-models for more details). In a future release, the default value for `weights_only` will be flipped to `True`. This limits the functions that could be executed during unpickling. Arbitrary objects will no longer be allowed to be loaded via this mode unless they are explicitly allowlisted by the user via `torch.serialization.add_safe_globals`. We recommend you start setting `weights_only=True` for any use case where you don't have full control of the loaded file. Please open an issue on GitHub for any issues related to this experimental feature.\n",
      "  model.load_state_dict(torch.load(f\"{MODEL_PATH}/byt5-model-{VERSION}.pth\"))\n"
     ]
    }
   ],
   "source": [
    "# load model\n",
    "if SAVE:\n",
    "    model = ByT5_model.ByT5ForClassification()\n",
    "    model.load_state_dict(torch.load(f\"{MODEL_PATH}/byt5-model-{VERSION}.pth\"))\n",
    "    tokenizer = ByT5Tokenizer.from_pretrained(f\"{MODEL_PATH}/byt5-tokenizer-{VERSION}\")"
   ]
  },
  {
   "cell_type": "code",
   "execution_count": 10,
   "metadata": {},
   "outputs": [
    {
     "data": {
      "application/vnd.jupyter.widget-view+json": {
       "model_id": "ded557aee5a747cf917c56fef146a56a",
       "version_major": 2,
       "version_minor": 0
      },
      "text/plain": [
       "  0%|          | 0/6 [00:00<?, ?it/s]"
      ]
     },
     "metadata": {},
     "output_type": "display_data"
    },
    {
     "data": {
      "text/plain": [
       "{'eval_loss': 0.18096239864826202,\n",
       " 'eval_runtime': 1.5373,\n",
       " 'eval_samples_per_second': 423.463,\n",
       " 'eval_steps_per_second': 3.903,\n",
       " 'epoch': 25.0}"
      ]
     },
     "execution_count": 10,
     "metadata": {},
     "output_type": "execute_result"
    }
   ],
   "source": [
    "# evaluate trained model\n",
    "ByT5_utils.evaluate_ByT5(trainer)"
   ]
  },
  {
   "cell_type": "code",
   "execution_count": 11,
   "metadata": {},
   "outputs": [
    {
     "data": {
      "text/plain": [
       "(0, 0.003107503056526184)"
      ]
     },
     "execution_count": 11,
     "metadata": {},
     "output_type": "execute_result"
    }
   ],
   "source": [
    "# predict single url\n",
    "ByT5_utils.predict_single_url(bench_data[\"url\"][0], model, tokenizer)"
   ]
  },
  {
   "cell_type": "code",
   "execution_count": 12,
   "metadata": {},
   "outputs": [
    {
     "name": "stdout",
     "output_type": "stream",
     "text": [
      "Processing 653 samples\n",
      "Done, processed 653 samples\n"
     ]
    }
   ],
   "source": [
    "# predict dataframe\n",
    "y_true, predicted_classes, y_proba = ByT5_utils.predict_dataframe(\n",
    "    bench_data,\n",
    "    model,\n",
    "    tokenizer,\n",
    ")"
   ]
  },
  {
   "cell_type": "code",
   "execution_count": 13,
   "metadata": {},
   "outputs": [
    {
     "name": "stdout",
     "output_type": "stream",
     "text": [
      "Threshold: 0.10, Accuracy: 0.80\n",
      "Threshold: 0.20, Accuracy: 0.88\n",
      "Threshold: 0.30, Accuracy: 0.91\n",
      "Threshold: 0.40, Accuracy: 0.91\n",
      "Threshold: 0.50, Accuracy: 0.92\n",
      "Threshold: 0.60, Accuracy: 0.92\n",
      "Threshold: 0.70, Accuracy: 0.90\n",
      "Threshold: 0.80, Accuracy: 0.88\n",
      "Threshold: 0.90, Accuracy: 0.86\n"
     ]
    }
   ],
   "source": [
    "accuracies = ByT5_utils.calculate_accuracy_at_thresholds(y_true, y_proba)\n",
    "for threshold, accuracy in accuracies:\n",
    "    print(f\"Threshold: {threshold:.2f}, Accuracy: {accuracy:.2f}\")"
   ]
  },
  {
   "cell_type": "code",
   "execution_count": 14,
   "metadata": {},
   "outputs": [
    {
     "data": {
      "text/html": [
       "<div>\n",
       "<style scoped>\n",
       "    .dataframe tbody tr th:only-of-type {\n",
       "        vertical-align: middle;\n",
       "    }\n",
       "\n",
       "    .dataframe tbody tr th {\n",
       "        vertical-align: top;\n",
       "    }\n",
       "\n",
       "    .dataframe thead th {\n",
       "        text-align: right;\n",
       "    }\n",
       "</style>\n",
       "<table border=\"1\" class=\"dataframe\">\n",
       "  <thead>\n",
       "    <tr style=\"text-align: right;\">\n",
       "      <th></th>\n",
       "      <th>0.010</th>\n",
       "      <th>0.009</th>\n",
       "      <th>0.008</th>\n",
       "      <th>0.007</th>\n",
       "      <th>0.006</th>\n",
       "      <th>0.005</th>\n",
       "      <th>0.004</th>\n",
       "      <th>0.003</th>\n",
       "      <th>0.002</th>\n",
       "      <th>0.001</th>\n",
       "      <th>0.000</th>\n",
       "    </tr>\n",
       "  </thead>\n",
       "  <tbody>\n",
       "    <tr>\n",
       "      <th>precision</th>\n",
       "      <td>97.014925</td>\n",
       "      <td>97.709924</td>\n",
       "      <td>97.709924</td>\n",
       "      <td>97.709924</td>\n",
       "      <td>98.058252</td>\n",
       "      <td>98.058252</td>\n",
       "      <td>98.765432</td>\n",
       "      <td>98.765432</td>\n",
       "      <td>100.000000</td>\n",
       "      <td>100.000000</td>\n",
       "      <td>100.000000</td>\n",
       "    </tr>\n",
       "    <tr>\n",
       "      <th>fpr</th>\n",
       "      <td>0.009324</td>\n",
       "      <td>0.006993</td>\n",
       "      <td>0.006993</td>\n",
       "      <td>0.006993</td>\n",
       "      <td>0.004662</td>\n",
       "      <td>0.004662</td>\n",
       "      <td>0.002331</td>\n",
       "      <td>0.002331</td>\n",
       "      <td>0.000000</td>\n",
       "      <td>0.000000</td>\n",
       "      <td>0.000000</td>\n",
       "    </tr>\n",
       "    <tr>\n",
       "      <th>specificity</th>\n",
       "      <td>99.067599</td>\n",
       "      <td>99.300699</td>\n",
       "      <td>99.300699</td>\n",
       "      <td>99.300699</td>\n",
       "      <td>99.533800</td>\n",
       "      <td>99.533800</td>\n",
       "      <td>99.766900</td>\n",
       "      <td>99.766900</td>\n",
       "      <td>100.000000</td>\n",
       "      <td>100.000000</td>\n",
       "      <td>100.000000</td>\n",
       "    </tr>\n",
       "    <tr>\n",
       "      <th>accuracy</th>\n",
       "      <td>84.992343</td>\n",
       "      <td>84.839204</td>\n",
       "      <td>84.839204</td>\n",
       "      <td>84.839204</td>\n",
       "      <td>80.857580</td>\n",
       "      <td>80.857580</td>\n",
       "      <td>77.794793</td>\n",
       "      <td>77.794793</td>\n",
       "      <td>71.516080</td>\n",
       "      <td>71.516080</td>\n",
       "      <td>71.516080</td>\n",
       "    </tr>\n",
       "    <tr>\n",
       "      <th>recall</th>\n",
       "      <td>58.035714</td>\n",
       "      <td>57.142857</td>\n",
       "      <td>57.142857</td>\n",
       "      <td>57.142857</td>\n",
       "      <td>45.089286</td>\n",
       "      <td>45.089286</td>\n",
       "      <td>35.714286</td>\n",
       "      <td>35.714286</td>\n",
       "      <td>16.964286</td>\n",
       "      <td>16.964286</td>\n",
       "      <td>16.964286</td>\n",
       "    </tr>\n",
       "    <tr>\n",
       "      <th>f1_score</th>\n",
       "      <td>72.625698</td>\n",
       "      <td>72.112676</td>\n",
       "      <td>72.112676</td>\n",
       "      <td>72.112676</td>\n",
       "      <td>61.773700</td>\n",
       "      <td>61.773700</td>\n",
       "      <td>52.459016</td>\n",
       "      <td>52.459016</td>\n",
       "      <td>29.007634</td>\n",
       "      <td>29.007634</td>\n",
       "      <td>29.007634</td>\n",
       "    </tr>\n",
       "    <tr>\n",
       "      <th>threshold</th>\n",
       "      <td>0.928402</td>\n",
       "      <td>0.938804</td>\n",
       "      <td>0.938804</td>\n",
       "      <td>0.938804</td>\n",
       "      <td>0.973996</td>\n",
       "      <td>0.973996</td>\n",
       "      <td>0.988035</td>\n",
       "      <td>0.988035</td>\n",
       "      <td>0.996685</td>\n",
       "      <td>0.996685</td>\n",
       "      <td>0.996685</td>\n",
       "    </tr>\n",
       "  </tbody>\n",
       "</table>\n",
       "</div>"
      ],
      "text/plain": [
       "                 0.010      0.009      0.008      0.007      0.006      0.005  \\\n",
       "precision    97.014925  97.709924  97.709924  97.709924  98.058252  98.058252   \n",
       "fpr           0.009324   0.006993   0.006993   0.006993   0.004662   0.004662   \n",
       "specificity  99.067599  99.300699  99.300699  99.300699  99.533800  99.533800   \n",
       "accuracy     84.992343  84.839204  84.839204  84.839204  80.857580  80.857580   \n",
       "recall       58.035714  57.142857  57.142857  57.142857  45.089286  45.089286   \n",
       "f1_score     72.625698  72.112676  72.112676  72.112676  61.773700  61.773700   \n",
       "threshold     0.928402   0.938804   0.938804   0.938804   0.973996   0.973996   \n",
       "\n",
       "                 0.004      0.003       0.002       0.001       0.000  \n",
       "precision    98.765432  98.765432  100.000000  100.000000  100.000000  \n",
       "fpr           0.002331   0.002331    0.000000    0.000000    0.000000  \n",
       "specificity  99.766900  99.766900  100.000000  100.000000  100.000000  \n",
       "accuracy     77.794793  77.794793   71.516080   71.516080   71.516080  \n",
       "recall       35.714286  35.714286   16.964286   16.964286   16.964286  \n",
       "f1_score     52.459016  52.459016   29.007634   29.007634   29.007634  \n",
       "threshold     0.988035   0.988035    0.996685    0.996685    0.996685  "
      ]
     },
     "execution_count": 14,
     "metadata": {},
     "output_type": "execute_result"
    }
   ],
   "source": [
    "# statistics\n",
    "ByT5_utils.fpr_comparison(np.array(y_true), np.array(y_proba))"
   ]
  },
  {
   "cell_type": "code",
   "execution_count": 16,
   "metadata": {},
   "outputs": [
    {
     "data": {
      "image/png": "[encoded data removed]",
      "text/plain": [
       "<Figure size 640x480 with 1 Axes>"
      ]
     },
     "metadata": {},
     "output_type": "display_data"
    }
   ],
   "source": [
    "# Calculate ROC curve\n",
    "fpr, tpr, thresholds = roc_curve(y_true, y_proba)\n",
    "roc_auc = auc(fpr, tpr)\n",
    "# Plot the ROC curve\n",
    "plt.figure()\n",
    "plt.plot(fpr, tpr, label='ROC curve (area = %0.2f)' % roc_auc)\n",
    "plt.plot([0, 1], [0, 1], 'k--', label='No Skill')\n",
    "plt.xlim([0.0, 1.0])\n",
    "plt.ylim([0.0, 1.0])\n",
    "plt.xlabel('False Positive Rate')\n",
    "plt.ylabel('True Positive Rate')\n",
    "plt.title('ROC Curve')\n",
    "plt.legend()\n",
    "plt.show()"
   ]
  }
 ],
 "metadata": {
  "kernelspec": {
   "display_name": "sc4001-project",
   "language": "python",
   "name": "python3"
  },
  "language_info": {
   "codemirror_mode": {
    "name": "ipython",
    "version": 3
   },
   "file_extension": ".py",
   "mimetype": "text/x-python",
   "name": "python",
   "nbconvert_exporter": "python",
   "pygments_lexer": "ipython3",
   "version": "3.12.7"
  }
 },
 "nbformat": 4,
 "nbformat_minor": 2
}
