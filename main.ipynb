{
 "cells": [
  {
   "cell_type": "markdown",
   "metadata": {},
   "source": [
    "# ByT5 Model"
   ]
  },
  {
   "cell_type": "code",
   "execution_count": 1,
   "metadata": {},
   "outputs": [],
   "source": [
    "# imports\n",
    "from transformers import TrainingArguments, ByT5Tokenizer\n",
    "from sklearn.metrics import roc_curve, auc\n",
    "from utils import ByT5_model, ByT5_utils\n",
    "from dotenv import load_dotenv\n",
    "import matplotlib.pyplot as plt\n",
    "import pandas as pd\n",
    "import numpy as np\n",
    "import torch\n",
    "import os"
   ]
  },
  {
   "cell_type": "code",
   "execution_count": 2,
   "metadata": {},
   "outputs": [],
   "source": [
    "load_dotenv()\n",
    "\n",
    "# CONSTANTS\n",
    "SAVE = True\n",
    "VERSION = \"v2\"\n",
    "RESULTS_PATH = os.getenv(\"RESULTS_PATH\")\n",
    "MODEL_PATH = os.getenv(\"MODEL_PATH\")\n",
    "MAX_LENGTH = 100"
   ]
  },
  {
   "cell_type": "code",
   "execution_count": 3,
   "metadata": {},
   "outputs": [
    {
     "name": "stdout",
     "output_type": "stream",
     "text": [
      "15628 training samples\n",
      "1953 validation samples\n",
      "1955 benchmark samples\n"
     ]
    }
   ],
   "source": [
    "# load data\n",
    "# need to put in our data here. the data format expects the following format:\n",
    "# url, label\n",
    "# url is the whole url\n",
    "# label is 0 for non-phishing, and 1 for phishing\n",
    "\n",
    "train_data = pd.read_csv(\"datasets/train.csv\")\n",
    "val_data = pd.read_csv(\"datasets/validation.csv\")\n",
    "bench_data = pd.read_csv(\"datasets/benchmark.csv\")\n",
    "\n",
    "print(f\"{len(train_data)} training samples\")\n",
    "print(f\"{len(val_data)} validation samples\")\n",
    "print(f\"{len(bench_data)} benchmark samples\")"
   ]
  },
  {
   "cell_type": "code",
   "execution_count": 4,
   "metadata": {},
   "outputs": [
    {
     "name": "stdout",
     "output_type": "stream",
     "text": [
      "Training and validation data value count:\n",
      "phishing: 6023\n",
      "benign: 11558\n",
      "Benchmark data value count:\n",
      "phishing: 670\n",
      "benign: 1285\n"
     ]
    }
   ],
   "source": [
    "# training data\n",
    "train_count = train_data[\"label\"].value_counts()\n",
    "val_count = val_data[\"label\"].value_counts()\n",
    "phish_count = train_count[1] + val_count[1]\n",
    "benign_count = train_count[0] + val_count[0]\n",
    "print(f\"Training and validation data value count:\\nphishing: {phish_count}\\nbenign: {benign_count}\")\n",
    "\n",
    "# benchmark data\n",
    "bench_count = bench_data[\"label\"].value_counts()\n",
    "phish_count = bench_count[1]\n",
    "benign_count = bench_count[0]\n",
    "print(f\"Benchmark data value count:\\nphishing: {phish_count}\\nbenign: {benign_count}\")"
   ]
  },
  {
   "cell_type": "code",
   "execution_count": 5,
   "metadata": {},
   "outputs": [],
   "source": [
    "# intialise model, tokenizer\n",
    "model = ByT5_model.ByT5ForClassification(\n",
    "    model_name='google/byt5-small',\n",
    "    num_labels=2,\n",
    ")\n",
    "tokenizer = ByT5Tokenizer.from_pretrained('google/byt5-small')"
   ]
  },
  {
   "cell_type": "code",
   "execution_count": 6,
   "metadata": {},
   "outputs": [],
   "source": [
    "# hyperparameters\n",
    "BATCH_SIZE = 128\n",
    "training_args = TrainingArguments(\n",
    "    # saving results/checkpoints\n",
    "    output_dir=RESULTS_PATH,\n",
    "    save_safetensors=False,\n",
    "\n",
    "    # evaluation\n",
    "    eval_strategy=\"epoch\",\n",
    "    eval_steps=1,\n",
    "    load_best_model_at_end=True,\n",
    "    metric_for_best_model='eval_loss',\n",
    "    greater_is_better=False,\n",
    "    \n",
    "    # saving\n",
    "    save_strategy=\"epoch\",\n",
    "    save_steps=1,\n",
    "    save_total_limit=3,\n",
    "\n",
    "    # hyperparameters\n",
    "    learning_rate=0.005,\n",
    "    per_device_train_batch_size=BATCH_SIZE,\n",
    "    per_device_eval_batch_size=BATCH_SIZE,\n",
    "    num_train_epochs=100,\n",
    "    weight_decay=0.01,\n",
    ")"
   ]
  },
  {
   "cell_type": "code",
   "execution_count": 7,
   "metadata": {},
   "outputs": [
    {
     "name": "stdout",
     "output_type": "stream",
     "text": [
      "Preparing data...\n"
     ]
    },
    {
     "data": {
      "application/vnd.jupyter.widget-view+json": {
       "model_id": "8b7789f539f74ba2a858e2f62bf9a9bd",
       "version_major": 2,
       "version_minor": 0
      },
      "text/plain": [
       "Map:   0%|          | 0/15628 [00:00<?, ? examples/s]"
      ]
     },
     "metadata": {},
     "output_type": "display_data"
    },
    {
     "data": {
      "application/vnd.jupyter.widget-view+json": {
       "model_id": "01559ebe6a1c4f659d59e5fd71ead95a",
       "version_major": 2,
       "version_minor": 0
      },
      "text/plain": [
       "Map:   0%|          | 0/1953 [00:00<?, ? examples/s]"
      ]
     },
     "metadata": {},
     "output_type": "display_data"
    },
    {
     "name": "stdout",
     "output_type": "stream",
     "text": [
      "Data prepared.\n"
     ]
    },
    {
     "data": {
      "application/vnd.jupyter.widget-view+json": {
       "model_id": "c09cb3d9180d4bc98bb99e65e681de81",
       "version_major": 2,
       "version_minor": 0
      },
      "text/plain": [
       "  0%|          | 0/12300 [00:00<?, ?it/s]"
      ]
     },
     "metadata": {},
     "output_type": "display_data"
    },
    {
     "name": "stdout",
     "output_type": "stream",
     "text": [
      "Starting training\n"
     ]
    },
    {
     "data": {
      "application/vnd.jupyter.widget-view+json": {
       "model_id": "caa970c29f9e4450a19c0dbf1ca7ede3",
       "version_major": 2,
       "version_minor": 0
      },
      "text/plain": [
       "  0%|          | 0/16 [00:00<?, ?it/s]"
      ]
     },
     "metadata": {},
     "output_type": "display_data"
    },
    {
     "name": "stdout",
     "output_type": "stream",
     "text": [
      "{'eval_loss': 0.3516896963119507, 'eval_runtime': 7.4413, 'eval_samples_per_second': 262.453, 'eval_steps_per_second': 2.15, 'epoch': 1.0}\n"
     ]
    },
    {
     "data": {
      "application/vnd.jupyter.widget-view+json": {
       "model_id": "cccbe643a6c2456bb094058d7f3d8644",
       "version_major": 2,
       "version_minor": 0
      },
      "text/plain": [
       "  0%|          | 0/16 [00:00<?, ?it/s]"
      ]
     },
     "metadata": {},
     "output_type": "display_data"
    },
    {
     "name": "stdout",
     "output_type": "stream",
     "text": [
      "{'eval_loss': 0.31206080317497253, 'eval_runtime': 7.6528, 'eval_samples_per_second': 255.202, 'eval_steps_per_second': 2.091, 'epoch': 2.0}\n"
     ]
    },
    {
     "data": {
      "application/vnd.jupyter.widget-view+json": {
       "model_id": "b459cfbadd8b45bd80549dc418cd902f",
       "version_major": 2,
       "version_minor": 0
      },
      "text/plain": [
       "  0%|          | 0/16 [00:00<?, ?it/s]"
      ]
     },
     "metadata": {},
     "output_type": "display_data"
    },
    {
     "name": "stdout",
     "output_type": "stream",
     "text": [
      "{'eval_loss': 0.28353139758110046, 'eval_runtime': 7.7256, 'eval_samples_per_second': 252.794, 'eval_steps_per_second': 2.071, 'epoch': 3.0}\n"
     ]
    },
    {
     "data": {
      "application/vnd.jupyter.widget-view+json": {
       "model_id": "34ed2b7f8f824c9aa4b7bf121d018067",
       "version_major": 2,
       "version_minor": 0
      },
      "text/plain": [
       "  0%|          | 0/16 [00:00<?, ?it/s]"
      ]
     },
     "metadata": {},
     "output_type": "display_data"
    },
    {
     "name": "stdout",
     "output_type": "stream",
     "text": [
      "{'eval_loss': 0.3788693845272064, 'eval_runtime': 7.7397, 'eval_samples_per_second': 252.337, 'eval_steps_per_second': 2.067, 'epoch': 4.0}\n",
      "{'loss': 0.3633, 'grad_norm': 0.39782026410102844, 'learning_rate': 0.004796747967479675, 'epoch': 4.07}\n"
     ]
    },
    {
     "data": {
      "application/vnd.jupyter.widget-view+json": {
       "model_id": "89a35736e4694fa0b607ef9a07eff9a3",
       "version_major": 2,
       "version_minor": 0
      },
      "text/plain": [
       "  0%|          | 0/16 [00:00<?, ?it/s]"
      ]
     },
     "metadata": {},
     "output_type": "display_data"
    },
    {
     "name": "stdout",
     "output_type": "stream",
     "text": [
      "{'eval_loss': 0.2703072428703308, 'eval_runtime': 7.7162, 'eval_samples_per_second': 253.105, 'eval_steps_per_second': 2.074, 'epoch': 5.0}\n"
     ]
    },
    {
     "data": {
      "application/vnd.jupyter.widget-view+json": {
       "model_id": "17613bbb8510427c9e47069b598053b0",
       "version_major": 2,
       "version_minor": 0
      },
      "text/plain": [
       "  0%|          | 0/16 [00:00<?, ?it/s]"
      ]
     },
     "metadata": {},
     "output_type": "display_data"
    },
    {
     "name": "stdout",
     "output_type": "stream",
     "text": [
      "{'eval_loss': 0.29246780276298523, 'eval_runtime': 7.755, 'eval_samples_per_second': 251.838, 'eval_steps_per_second': 2.063, 'epoch': 6.0}\n"
     ]
    },
    {
     "data": {
      "application/vnd.jupyter.widget-view+json": {
       "model_id": "882f1806e57d4dd5bfc1b3f12494c907",
       "version_major": 2,
       "version_minor": 0
      },
      "text/plain": [
       "  0%|          | 0/16 [00:00<?, ?it/s]"
      ]
     },
     "metadata": {},
     "output_type": "display_data"
    },
    {
     "name": "stdout",
     "output_type": "stream",
     "text": [
      "{'eval_loss': 0.24783538281917572, 'eval_runtime': 8.2922, 'eval_samples_per_second': 235.523, 'eval_steps_per_second': 1.93, 'epoch': 7.0}\n"
     ]
    },
    {
     "data": {
      "application/vnd.jupyter.widget-view+json": {
       "model_id": "04c1d398e6e04b0a8182136baab66600",
       "version_major": 2,
       "version_minor": 0
      },
      "text/plain": [
       "  0%|          | 0/16 [00:00<?, ?it/s]"
      ]
     },
     "metadata": {},
     "output_type": "display_data"
    },
    {
     "name": "stdout",
     "output_type": "stream",
     "text": [
      "{'eval_loss': 0.22358950972557068, 'eval_runtime': 7.9299, 'eval_samples_per_second': 246.284, 'eval_steps_per_second': 2.018, 'epoch': 8.0}\n",
      "{'loss': 0.2884, 'grad_norm': 0.20531931519508362, 'learning_rate': 0.00459349593495935, 'epoch': 8.13}\n"
     ]
    },
    {
     "data": {
      "application/vnd.jupyter.widget-view+json": {
       "model_id": "e72c6ecb2143415fbf190e3c3197a447",
       "version_major": 2,
       "version_minor": 0
      },
      "text/plain": [
       "  0%|          | 0/16 [00:00<?, ?it/s]"
      ]
     },
     "metadata": {},
     "output_type": "display_data"
    },
    {
     "name": "stdout",
     "output_type": "stream",
     "text": [
      "{'eval_loss': 0.24855226278305054, 'eval_runtime': 8.1268, 'eval_samples_per_second': 240.316, 'eval_steps_per_second': 1.969, 'epoch': 9.0}\n"
     ]
    },
    {
     "data": {
      "application/vnd.jupyter.widget-view+json": {
       "model_id": "638e55e254b94e809aaafc69e48b9b41",
       "version_major": 2,
       "version_minor": 0
      },
      "text/plain": [
       "  0%|          | 0/16 [00:00<?, ?it/s]"
      ]
     },
     "metadata": {},
     "output_type": "display_data"
    },
    {
     "name": "stdout",
     "output_type": "stream",
     "text": [
      "{'eval_loss': 0.2537531852722168, 'eval_runtime': 8.0088, 'eval_samples_per_second': 243.857, 'eval_steps_per_second': 1.998, 'epoch': 10.0}\n"
     ]
    },
    {
     "data": {
      "application/vnd.jupyter.widget-view+json": {
       "model_id": "a25c04161dcd4da0b9767537eb84fe8e",
       "version_major": 2,
       "version_minor": 0
      },
      "text/plain": [
       "  0%|          | 0/16 [00:00<?, ?it/s]"
      ]
     },
     "metadata": {},
     "output_type": "display_data"
    },
    {
     "name": "stdout",
     "output_type": "stream",
     "text": [
      "{'eval_loss': 0.2151191681623459, 'eval_runtime': 8.0749, 'eval_samples_per_second': 241.86, 'eval_steps_per_second': 1.981, 'epoch': 11.0}\n"
     ]
    },
    {
     "data": {
      "application/vnd.jupyter.widget-view+json": {
       "model_id": "0e46fe7f01d24fb98a113e2deeffc353",
       "version_major": 2,
       "version_minor": 0
      },
      "text/plain": [
       "  0%|          | 0/16 [00:00<?, ?it/s]"
      ]
     },
     "metadata": {},
     "output_type": "display_data"
    },
    {
     "name": "stdout",
     "output_type": "stream",
     "text": [
      "{'eval_loss': 0.2487453818321228, 'eval_runtime': 8.077, 'eval_samples_per_second': 241.797, 'eval_steps_per_second': 1.981, 'epoch': 12.0}\n",
      "{'loss': 0.2684, 'grad_norm': 0.2102232128381729, 'learning_rate': 0.004390243902439025, 'epoch': 12.2}\n"
     ]
    },
    {
     "data": {
      "application/vnd.jupyter.widget-view+json": {
       "model_id": "4d935bff15aa4ad59e26dc9bbe9d037f",
       "version_major": 2,
       "version_minor": 0
      },
      "text/plain": [
       "  0%|          | 0/16 [00:00<?, ?it/s]"
      ]
     },
     "metadata": {},
     "output_type": "display_data"
    },
    {
     "name": "stdout",
     "output_type": "stream",
     "text": [
      "{'eval_loss': 0.23288947343826294, 'eval_runtime': 8.0439, 'eval_samples_per_second': 242.791, 'eval_steps_per_second': 1.989, 'epoch': 13.0}\n"
     ]
    },
    {
     "data": {
      "application/vnd.jupyter.widget-view+json": {
       "model_id": "c926562c8a8441b6b1066b268b0d753d",
       "version_major": 2,
       "version_minor": 0
      },
      "text/plain": [
       "  0%|          | 0/16 [00:00<?, ?it/s]"
      ]
     },
     "metadata": {},
     "output_type": "display_data"
    },
    {
     "name": "stdout",
     "output_type": "stream",
     "text": [
      "{'eval_loss': 0.3562903106212616, 'eval_runtime': 8.2592, 'eval_samples_per_second': 236.463, 'eval_steps_per_second': 1.937, 'epoch': 14.0}\n"
     ]
    },
    {
     "data": {
      "application/vnd.jupyter.widget-view+json": {
       "model_id": "32237f4c4c6a44608694d70252f90c5a",
       "version_major": 2,
       "version_minor": 0
      },
      "text/plain": [
       "  0%|          | 0/16 [00:00<?, ?it/s]"
      ]
     },
     "metadata": {},
     "output_type": "display_data"
    },
    {
     "name": "stdout",
     "output_type": "stream",
     "text": [
      "{'eval_loss': 0.23606239259243011, 'eval_runtime': 8.266, 'eval_samples_per_second': 236.268, 'eval_steps_per_second': 1.936, 'epoch': 15.0}\n"
     ]
    },
    {
     "data": {
      "application/vnd.jupyter.widget-view+json": {
       "model_id": "49aad0222ef64aa3ad338accecf6e302",
       "version_major": 2,
       "version_minor": 0
      },
      "text/plain": [
       "  0%|          | 0/16 [00:00<?, ?it/s]"
      ]
     },
     "metadata": {},
     "output_type": "display_data"
    },
    {
     "name": "stdout",
     "output_type": "stream",
     "text": [
      "{'eval_loss': 0.21432669460773468, 'eval_runtime': 8.0788, 'eval_samples_per_second': 241.743, 'eval_steps_per_second': 1.98, 'epoch': 16.0}\n",
      "{'loss': 0.2515, 'grad_norm': 0.3265453577041626, 'learning_rate': 0.0041869918699187, 'epoch': 16.26}\n"
     ]
    },
    {
     "data": {
      "application/vnd.jupyter.widget-view+json": {
       "model_id": "ac1ac514c73b49aa81e203e64b3b0831",
       "version_major": 2,
       "version_minor": 0
      },
      "text/plain": [
       "  0%|          | 0/16 [00:00<?, ?it/s]"
      ]
     },
     "metadata": {},
     "output_type": "display_data"
    },
    {
     "name": "stdout",
     "output_type": "stream",
     "text": [
      "{'eval_loss': 0.22021956741809845, 'eval_runtime': 8.2378, 'eval_samples_per_second': 237.078, 'eval_steps_per_second': 1.942, 'epoch': 17.0}\n"
     ]
    },
    {
     "data": {
      "application/vnd.jupyter.widget-view+json": {
       "model_id": "61331b60638042d6ba7a9648249e9dc1",
       "version_major": 2,
       "version_minor": 0
      },
      "text/plain": [
       "  0%|          | 0/16 [00:00<?, ?it/s]"
      ]
     },
     "metadata": {},
     "output_type": "display_data"
    },
    {
     "name": "stdout",
     "output_type": "stream",
     "text": [
      "{'eval_loss': 0.19696438312530518, 'eval_runtime': 8.2369, 'eval_samples_per_second': 237.104, 'eval_steps_per_second': 1.942, 'epoch': 18.0}\n"
     ]
    },
    {
     "data": {
      "application/vnd.jupyter.widget-view+json": {
       "model_id": "edc5c6e5f92d44de8fbdcb42ca123a72",
       "version_major": 2,
       "version_minor": 0
      },
      "text/plain": [
       "  0%|          | 0/16 [00:00<?, ?it/s]"
      ]
     },
     "metadata": {},
     "output_type": "display_data"
    },
    {
     "name": "stdout",
     "output_type": "stream",
     "text": [
      "{'eval_loss': 0.2223578542470932, 'eval_runtime': 8.1621, 'eval_samples_per_second': 239.277, 'eval_steps_per_second': 1.96, 'epoch': 19.0}\n"
     ]
    },
    {
     "data": {
      "application/vnd.jupyter.widget-view+json": {
       "model_id": "266b09d2bfc348b189edd673c6cc0f91",
       "version_major": 2,
       "version_minor": 0
      },
      "text/plain": [
       "  0%|          | 0/16 [00:00<?, ?it/s]"
      ]
     },
     "metadata": {},
     "output_type": "display_data"
    },
    {
     "name": "stdout",
     "output_type": "stream",
     "text": [
      "{'eval_loss': 0.21194422245025635, 'eval_runtime': 8.2167, 'eval_samples_per_second': 237.688, 'eval_steps_per_second': 1.947, 'epoch': 20.0}\n",
      "{'loss': 0.2411, 'grad_norm': 0.35793158411979675, 'learning_rate': 0.003983739837398374, 'epoch': 20.33}\n"
     ]
    },
    {
     "data": {
      "application/vnd.jupyter.widget-view+json": {
       "model_id": "4e4ee3d07bc64359b7a2fae5e524f592",
       "version_major": 2,
       "version_minor": 0
      },
      "text/plain": [
       "  0%|          | 0/16 [00:00<?, ?it/s]"
      ]
     },
     "metadata": {},
     "output_type": "display_data"
    },
    {
     "name": "stdout",
     "output_type": "stream",
     "text": [
      "{'eval_loss': 0.20773449540138245, 'eval_runtime': 8.0296, 'eval_samples_per_second': 243.224, 'eval_steps_per_second': 1.993, 'epoch': 21.0}\n"
     ]
    },
    {
     "data": {
      "application/vnd.jupyter.widget-view+json": {
       "model_id": "7d193c6a2f6448d9b20264329af1f558",
       "version_major": 2,
       "version_minor": 0
      },
      "text/plain": [
       "  0%|          | 0/16 [00:00<?, ?it/s]"
      ]
     },
     "metadata": {},
     "output_type": "display_data"
    },
    {
     "name": "stdout",
     "output_type": "stream",
     "text": [
      "{'eval_loss': 0.2657430171966553, 'eval_runtime': 7.957, 'eval_samples_per_second': 245.445, 'eval_steps_per_second': 2.011, 'epoch': 22.0}\n"
     ]
    },
    {
     "data": {
      "application/vnd.jupyter.widget-view+json": {
       "model_id": "e80f0d87e28a4ca29514a4209435d0f4",
       "version_major": 2,
       "version_minor": 0
      },
      "text/plain": [
       "  0%|          | 0/16 [00:00<?, ?it/s]"
      ]
     },
     "metadata": {},
     "output_type": "display_data"
    },
    {
     "name": "stdout",
     "output_type": "stream",
     "text": [
      "{'eval_loss': 0.1959044635295868, 'eval_runtime': 8.137, 'eval_samples_per_second': 240.014, 'eval_steps_per_second': 1.966, 'epoch': 23.0}\n"
     ]
    },
    {
     "data": {
      "application/vnd.jupyter.widget-view+json": {
       "model_id": "1db9ef2d3c1a4c59a4f4dc9a75e0dc2d",
       "version_major": 2,
       "version_minor": 0
      },
      "text/plain": [
       "  0%|          | 0/16 [00:00<?, ?it/s]"
      ]
     },
     "metadata": {},
     "output_type": "display_data"
    },
    {
     "name": "stdout",
     "output_type": "stream",
     "text": [
      "{'eval_loss': 0.20867571234703064, 'eval_runtime': 8.1502, 'eval_samples_per_second': 239.627, 'eval_steps_per_second': 1.963, 'epoch': 24.0}\n",
      "{'loss': 0.2309, 'grad_norm': 0.1348508894443512, 'learning_rate': 0.003780487804878049, 'epoch': 24.39}\n"
     ]
    },
    {
     "data": {
      "application/vnd.jupyter.widget-view+json": {
       "model_id": "20711fe03a494feea39175a08fd8b49a",
       "version_major": 2,
       "version_minor": 0
      },
      "text/plain": [
       "  0%|          | 0/16 [00:00<?, ?it/s]"
      ]
     },
     "metadata": {},
     "output_type": "display_data"
    },
    {
     "name": "stdout",
     "output_type": "stream",
     "text": [
      "{'eval_loss': 0.22594574093818665, 'eval_runtime': 8.2182, 'eval_samples_per_second': 237.643, 'eval_steps_per_second': 1.947, 'epoch': 25.0}\n"
     ]
    },
    {
     "data": {
      "application/vnd.jupyter.widget-view+json": {
       "model_id": "f49b62d7e4254bed869146400f264dde",
       "version_major": 2,
       "version_minor": 0
      },
      "text/plain": [
       "  0%|          | 0/16 [00:00<?, ?it/s]"
      ]
     },
     "metadata": {},
     "output_type": "display_data"
    },
    {
     "name": "stdout",
     "output_type": "stream",
     "text": [
      "{'eval_loss': 0.21047204732894897, 'eval_runtime': 8.1749, 'eval_samples_per_second': 238.902, 'eval_steps_per_second': 1.957, 'epoch': 26.0}\n"
     ]
    },
    {
     "data": {
      "application/vnd.jupyter.widget-view+json": {
       "model_id": "076936048e8f416f9c58822a1444a432",
       "version_major": 2,
       "version_minor": 0
      },
      "text/plain": [
       "  0%|          | 0/16 [00:00<?, ?it/s]"
      ]
     },
     "metadata": {},
     "output_type": "display_data"
    },
    {
     "name": "stdout",
     "output_type": "stream",
     "text": [
      "{'eval_loss': 0.17775104939937592, 'eval_runtime': 8.1149, 'eval_samples_per_second': 240.668, 'eval_steps_per_second': 1.972, 'epoch': 27.0}\n"
     ]
    },
    {
     "data": {
      "application/vnd.jupyter.widget-view+json": {
       "model_id": "d4cec053e36e47a89acc807d8abe2803",
       "version_major": 2,
       "version_minor": 0
      },
      "text/plain": [
       "  0%|          | 0/16 [00:00<?, ?it/s]"
      ]
     },
     "metadata": {},
     "output_type": "display_data"
    },
    {
     "name": "stdout",
     "output_type": "stream",
     "text": [
      "{'eval_loss': 0.20891550183296204, 'eval_runtime': 7.7257, 'eval_samples_per_second': 252.793, 'eval_steps_per_second': 2.071, 'epoch': 28.0}\n",
      "{'loss': 0.2212, 'grad_norm': 0.38980790972709656, 'learning_rate': 0.0035772357723577236, 'epoch': 28.46}\n"
     ]
    },
    {
     "data": {
      "application/vnd.jupyter.widget-view+json": {
       "model_id": "05174853f60a42dca12724faebe02bf8",
       "version_major": 2,
       "version_minor": 0
      },
      "text/plain": [
       "  0%|          | 0/16 [00:00<?, ?it/s]"
      ]
     },
     "metadata": {},
     "output_type": "display_data"
    },
    {
     "name": "stdout",
     "output_type": "stream",
     "text": [
      "{'eval_loss': 0.21602649986743927, 'eval_runtime': 7.8353, 'eval_samples_per_second': 249.256, 'eval_steps_per_second': 2.042, 'epoch': 29.0}\n"
     ]
    },
    {
     "data": {
      "application/vnd.jupyter.widget-view+json": {
       "model_id": "341f6da3b7ca4aaea6b4a29d4501b629",
       "version_major": 2,
       "version_minor": 0
      },
      "text/plain": [
       "  0%|          | 0/16 [00:00<?, ?it/s]"
      ]
     },
     "metadata": {},
     "output_type": "display_data"
    },
    {
     "name": "stdout",
     "output_type": "stream",
     "text": [
      "{'eval_loss': 0.1967821717262268, 'eval_runtime': 7.9321, 'eval_samples_per_second': 246.215, 'eval_steps_per_second': 2.017, 'epoch': 30.0}\n"
     ]
    },
    {
     "data": {
      "application/vnd.jupyter.widget-view+json": {
       "model_id": "36875d3e315a41fcb9f5387221f36cd8",
       "version_major": 2,
       "version_minor": 0
      },
      "text/plain": [
       "  0%|          | 0/16 [00:00<?, ?it/s]"
      ]
     },
     "metadata": {},
     "output_type": "display_data"
    },
    {
     "name": "stdout",
     "output_type": "stream",
     "text": [
      "{'eval_loss': 0.1946890503168106, 'eval_runtime': 8.101, 'eval_samples_per_second': 241.08, 'eval_steps_per_second': 1.975, 'epoch': 31.0}\n"
     ]
    },
    {
     "data": {
      "application/vnd.jupyter.widget-view+json": {
       "model_id": "50b96d92e7c145b79e45d36281b82ce2",
       "version_major": 2,
       "version_minor": 0
      },
      "text/plain": [
       "  0%|          | 0/16 [00:00<?, ?it/s]"
      ]
     },
     "metadata": {},
     "output_type": "display_data"
    },
    {
     "name": "stdout",
     "output_type": "stream",
     "text": [
      "{'eval_loss': 0.18685580790042877, 'eval_runtime': 8.1197, 'eval_samples_per_second': 240.526, 'eval_steps_per_second': 1.971, 'epoch': 32.0}\n",
      "{'train_runtime': 2435.8888, 'train_samples_per_second': 641.573, 'train_steps_per_second': 5.049, 'train_loss': 0.2611019223686156, 'epoch': 32.0}\n",
      "Training ended\n"
     ]
    }
   ],
   "source": [
    "# training loop\n",
    "trainer = ByT5_utils.train_ByT5(\n",
    "    model=model,\n",
    "    tokenizer=tokenizer,\n",
    "    train_data=train_data,\n",
    "    val_data=val_data,\n",
    "    training_args=training_args,\n",
    "    patience=5,\n",
    "    max_length=MAX_LENGTH,\n",
    "    )"
   ]
  },
  {
   "cell_type": "code",
   "execution_count": 8,
   "metadata": {},
   "outputs": [],
   "source": [
    "# saving model\n",
    "if SAVE:\n",
    "    torch.save(\n",
    "        model.state_dict(),\n",
    "        f\"{MODEL_PATH}/byt5-model-{VERSION}.pth\"\n",
    "    )\n",
    "    tokenizer.save_pretrained(f\"{MODEL_PATH}/byt5-tokenizer-{VERSION}\")"
   ]
  },
  {
   "cell_type": "code",
   "execution_count": 9,
   "metadata": {},
   "outputs": [],
   "source": [
    "# load model\n",
    "if SAVE:\n",
    "    model = ByT5_model.ByT5ForClassification()\n",
    "    model.load_state_dict(torch.load(f\"{MODEL_PATH}/byt5-model-{VERSION}.pth\", weights_only=True))\n",
    "    tokenizer = ByT5Tokenizer.from_pretrained(f\"{MODEL_PATH}/byt5-tokenizer-{VERSION}\")"
   ]
  },
  {
   "cell_type": "code",
   "execution_count": 10,
   "metadata": {},
   "outputs": [
    {
     "data": {
      "application/vnd.jupyter.widget-view+json": {
       "model_id": "16bc59a6c95f4be691d4ab62957b628a",
       "version_major": 2,
       "version_minor": 0
      },
      "text/plain": [
       "  0%|          | 0/16 [00:00<?, ?it/s]"
      ]
     },
     "metadata": {},
     "output_type": "display_data"
    },
    {
     "data": {
      "text/plain": [
       "{'eval_loss': 0.17775104939937592,\n",
       " 'eval_runtime': 8.148,\n",
       " 'eval_samples_per_second': 239.691,\n",
       " 'eval_steps_per_second': 1.964,\n",
       " 'epoch': 32.0}"
      ]
     },
     "execution_count": 10,
     "metadata": {},
     "output_type": "execute_result"
    }
   ],
   "source": [
    "# evaluate trained model\n",
    "ByT5_utils.evaluate_ByT5(trainer)"
   ]
  },
  {
   "cell_type": "code",
   "execution_count": 11,
   "metadata": {},
   "outputs": [
    {
     "data": {
      "text/plain": [
       "(0, 0.12572263181209564)"
      ]
     },
     "execution_count": 11,
     "metadata": {},
     "output_type": "execute_result"
    }
   ],
   "source": [
    "# predict single url\n",
    "ByT5_utils.predict_single_url(\n",
    "    bench_data[\"url\"][0],\n",
    "    model,\n",
    "    tokenizer,\n",
    "    max_length=MAX_LENGTH\n",
    ")"
   ]
  },
  {
   "cell_type": "code",
   "execution_count": 12,
   "metadata": {},
   "outputs": [
    {
     "name": "stdout",
     "output_type": "stream",
     "text": [
      "Processing 1955 samples\n",
      "Processed 1000 samples\n",
      "Done, processed 1955 samples\n"
     ]
    }
   ],
   "source": [
    "# predict dataframe\n",
    "y_true, predicted_classes, y_proba = ByT5_utils.predict_dataframe(\n",
    "    bench_data,\n",
    "    model,\n",
    "    tokenizer,\n",
    ")"
   ]
  },
  {
   "cell_type": "code",
   "execution_count": 13,
   "metadata": {},
   "outputs": [
    {
     "name": "stdout",
     "output_type": "stream",
     "text": [
      "Threshold: 0.10, Accuracy: 0.81\n",
      "Threshold: 0.20, Accuracy: 0.87\n",
      "Threshold: 0.30, Accuracy: 0.89\n",
      "Threshold: 0.40, Accuracy: 0.90\n",
      "Threshold: 0.50, Accuracy: 0.91\n",
      "Threshold: 0.60, Accuracy: 0.92\n",
      "Threshold: 0.70, Accuracy: 0.92\n",
      "Threshold: 0.80, Accuracy: 0.93\n",
      "Threshold: 0.90, Accuracy: 0.93\n"
     ]
    }
   ],
   "source": [
    "accuracies = ByT5_utils.calculate_accuracy_at_thresholds(y_true, y_proba)\n",
    "for threshold, accuracy in accuracies:\n",
    "    print(f\"Threshold: {threshold:.2f}, Accuracy: {accuracy:.2f}\")"
   ]
  },
  {
   "cell_type": "code",
   "execution_count": 14,
   "metadata": {},
   "outputs": [
    {
     "data": {
      "text/html": [
       "<div>\n",
       "<style scoped>\n",
       "    .dataframe tbody tr th:only-of-type {\n",
       "        vertical-align: middle;\n",
       "    }\n",
       "\n",
       "    .dataframe tbody tr th {\n",
       "        vertical-align: top;\n",
       "    }\n",
       "\n",
       "    .dataframe thead th {\n",
       "        text-align: right;\n",
       "    }\n",
       "</style>\n",
       "<table border=\"1\" class=\"dataframe\">\n",
       "  <thead>\n",
       "    <tr style=\"text-align: right;\">\n",
       "      <th></th>\n",
       "      <th>0.010</th>\n",
       "      <th>0.009</th>\n",
       "      <th>0.008</th>\n",
       "      <th>0.007</th>\n",
       "      <th>0.006</th>\n",
       "      <th>0.005</th>\n",
       "      <th>0.004</th>\n",
       "      <th>0.003</th>\n",
       "      <th>0.002</th>\n",
       "      <th>0.001</th>\n",
       "      <th>0.000</th>\n",
       "    </tr>\n",
       "  </thead>\n",
       "  <tbody>\n",
       "    <tr>\n",
       "      <th>precision</th>\n",
       "      <td>97.391304</td>\n",
       "      <td>97.544643</td>\n",
       "      <td>97.668998</td>\n",
       "      <td>98.258706</td>\n",
       "      <td>98.258706</td>\n",
       "      <td>98.637602</td>\n",
       "      <td>98.637602</td>\n",
       "      <td>99.099099</td>\n",
       "      <td>99.344262</td>\n",
       "      <td>99.667774</td>\n",
       "      <td>100.000000</td>\n",
       "    </tr>\n",
       "    <tr>\n",
       "      <th>fpr</th>\n",
       "      <td>0.009339</td>\n",
       "      <td>0.008560</td>\n",
       "      <td>0.007782</td>\n",
       "      <td>0.005447</td>\n",
       "      <td>0.005447</td>\n",
       "      <td>0.003891</td>\n",
       "      <td>0.003891</td>\n",
       "      <td>0.002335</td>\n",
       "      <td>0.001556</td>\n",
       "      <td>0.000778</td>\n",
       "      <td>0.000000</td>\n",
       "    </tr>\n",
       "    <tr>\n",
       "      <th>specificity</th>\n",
       "      <td>99.066148</td>\n",
       "      <td>99.143969</td>\n",
       "      <td>99.221790</td>\n",
       "      <td>99.455253</td>\n",
       "      <td>99.455253</td>\n",
       "      <td>99.610895</td>\n",
       "      <td>99.610895</td>\n",
       "      <td>99.766537</td>\n",
       "      <td>99.844358</td>\n",
       "      <td>99.922179</td>\n",
       "      <td>100.000000</td>\n",
       "    </tr>\n",
       "    <tr>\n",
       "      <th>accuracy</th>\n",
       "      <td>88.030691</td>\n",
       "      <td>87.519182</td>\n",
       "      <td>86.649616</td>\n",
       "      <td>85.575448</td>\n",
       "      <td>85.575448</td>\n",
       "      <td>83.989770</td>\n",
       "      <td>83.989770</td>\n",
       "      <td>82.455243</td>\n",
       "      <td>81.125320</td>\n",
       "      <td>81.023018</td>\n",
       "      <td>71.253197</td>\n",
       "    </tr>\n",
       "    <tr>\n",
       "      <th>recall</th>\n",
       "      <td>66.865672</td>\n",
       "      <td>65.223881</td>\n",
       "      <td>62.537313</td>\n",
       "      <td>58.955224</td>\n",
       "      <td>58.955224</td>\n",
       "      <td>54.029851</td>\n",
       "      <td>54.029851</td>\n",
       "      <td>49.253731</td>\n",
       "      <td>45.223881</td>\n",
       "      <td>44.776119</td>\n",
       "      <td>16.119403</td>\n",
       "    </tr>\n",
       "    <tr>\n",
       "      <th>f1_score</th>\n",
       "      <td>79.292035</td>\n",
       "      <td>78.175313</td>\n",
       "      <td>76.251137</td>\n",
       "      <td>73.694030</td>\n",
       "      <td>73.694030</td>\n",
       "      <td>69.816779</td>\n",
       "      <td>69.816779</td>\n",
       "      <td>65.802592</td>\n",
       "      <td>62.153846</td>\n",
       "      <td>61.791967</td>\n",
       "      <td>27.763496</td>\n",
       "    </tr>\n",
       "    <tr>\n",
       "      <th>threshold</th>\n",
       "      <td>0.992315</td>\n",
       "      <td>0.993869</td>\n",
       "      <td>0.994970</td>\n",
       "      <td>0.997104</td>\n",
       "      <td>0.997104</td>\n",
       "      <td>0.998566</td>\n",
       "      <td>0.998566</td>\n",
       "      <td>0.999326</td>\n",
       "      <td>0.999615</td>\n",
       "      <td>0.999664</td>\n",
       "      <td>0.999997</td>\n",
       "    </tr>\n",
       "  </tbody>\n",
       "</table>\n",
       "</div>"
      ],
      "text/plain": [
       "                 0.010      0.009      0.008      0.007      0.006      0.005  \\\n",
       "precision    97.391304  97.544643  97.668998  98.258706  98.258706  98.637602   \n",
       "fpr           0.009339   0.008560   0.007782   0.005447   0.005447   0.003891   \n",
       "specificity  99.066148  99.143969  99.221790  99.455253  99.455253  99.610895   \n",
       "accuracy     88.030691  87.519182  86.649616  85.575448  85.575448  83.989770   \n",
       "recall       66.865672  65.223881  62.537313  58.955224  58.955224  54.029851   \n",
       "f1_score     79.292035  78.175313  76.251137  73.694030  73.694030  69.816779   \n",
       "threshold     0.992315   0.993869   0.994970   0.997104   0.997104   0.998566   \n",
       "\n",
       "                 0.004      0.003      0.002      0.001       0.000  \n",
       "precision    98.637602  99.099099  99.344262  99.667774  100.000000  \n",
       "fpr           0.003891   0.002335   0.001556   0.000778    0.000000  \n",
       "specificity  99.610895  99.766537  99.844358  99.922179  100.000000  \n",
       "accuracy     83.989770  82.455243  81.125320  81.023018   71.253197  \n",
       "recall       54.029851  49.253731  45.223881  44.776119   16.119403  \n",
       "f1_score     69.816779  65.802592  62.153846  61.791967   27.763496  \n",
       "threshold     0.998566   0.999326   0.999615   0.999664    0.999997  "
      ]
     },
     "execution_count": 14,
     "metadata": {},
     "output_type": "execute_result"
    }
   ],
   "source": [
    "# statistics\n",
    "ByT5_utils.fpr_comparison(np.array(y_true), np.array(y_proba))"
   ]
  },
  {
   "cell_type": "code",
   "execution_count": 15,
   "metadata": {},
   "outputs": [
    {
     "data": {
      "image/png": "[encoded data removed]",
      "text/plain": [
       "<Figure size 640x480 with 1 Axes>"
      ]
     },
     "metadata": {},
     "output_type": "display_data"
    }
   ],
   "source": [
    "# Calculate ROC curve\n",
    "fpr, tpr, thresholds = roc_curve(y_true, y_proba)\n",
    "roc_auc = auc(fpr, tpr)\n",
    "# Plot the ROC curve\n",
    "plt.figure()\n",
    "plt.plot(fpr, tpr, label='ROC curve (area = %0.2f)' % roc_auc)\n",
    "plt.plot([0, 1], [0, 1], 'k--', label='No Skill')\n",
    "plt.xlim([0.0, 1.0])\n",
    "plt.ylim([0.0, 1.0])\n",
    "plt.xlabel('False Positive Rate')\n",
    "plt.ylabel('True Positive Rate')\n",
    "plt.title('ROC Curve')\n",
    "plt.legend()\n",
    "plt.show()"
   ]
  }
 ],
 "metadata": {
  "kernelspec": {
   "display_name": "sc4001-project",
   "language": "python",
   "name": "python3"
  },
  "language_info": {
   "codemirror_mode": {
    "name": "ipython",
    "version": 3
   },
   "file_extension": ".py",
   "mimetype": "text/x-python",
   "name": "python",
   "nbconvert_exporter": "python",
   "pygments_lexer": "ipython3",
   "version": "3.12.7"
  }
 },
 "nbformat": 4,
 "nbformat_minor": 2
}
