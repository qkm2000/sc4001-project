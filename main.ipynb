{
 "cells": [
  {
   "cell_type": "markdown",
   "metadata": {},
   "source": [
    "# ByT5 Model"
   ]
  },
  {
   "cell_type": "code",
   "execution_count": 1,
   "metadata": {},
   "outputs": [],
   "source": [
    "# imports\n",
    "from transformers import TrainingArguments, ByT5Tokenizer\n",
    "from sklearn.metrics import roc_curve, auc\n",
    "from utils import ByT5_model, ByT5_utils\n",
    "from dotenv import load_dotenv\n",
    "import matplotlib.pyplot as plt\n",
    "import pandas as pd\n",
    "import numpy as np\n",
    "import os"
   ]
  },
  {
   "cell_type": "code",
   "execution_count": 2,
   "metadata": {},
   "outputs": [],
   "source": [
    "load_dotenv()\n",
    "\n",
    "# CONSTANTS\n",
    "SAVE = True\n",
    "VERSION = \"v1\"\n",
    "SAVE_VERSION = \"v1\"\n",
    "RESULTS_PATH = os.getenv(\"RESULTS_PATH\")\n",
    "MODEL_PATH = os.getenv(\"MODEL_PATH\")"
   ]
  },
  {
   "cell_type": "code",
   "execution_count": 3,
   "metadata": {},
   "outputs": [
    {
     "name": "stdout",
     "output_type": "stream",
     "text": [
      "2604 training samples\n",
      "325 validation samples\n",
      "327 benchmark samples\n"
     ]
    }
   ],
   "source": [
    "# load data\n",
    "# need to put in our data here. the data format expects the following format:\n",
    "# url, label\n",
    "# url is the whole url\n",
    "# label is 0 for non-phishing, and 1 for phishing\n",
    "\n",
    "train_data = pd.read_csv(\"datasets/train.csv\")\n",
    "val_data = pd.read_csv(\"datasets/validation.csv\")\n",
    "bench_data = pd.read_csv(\"datasets/benchmark.csv\")\n",
    "\n",
    "print(f\"{len(train_data)} training samples\")\n",
    "print(f\"{len(val_data)} validation samples\")\n",
    "print(f\"{len(bench_data)} benchmark samples\")"
   ]
  },
  {
   "cell_type": "code",
   "execution_count": 4,
   "metadata": {},
   "outputs": [
    {
     "name": "stdout",
     "output_type": "stream",
     "text": [
      "Training and validation data value count:\n",
      "phishing: 1003\n",
      "benign: 1926\n",
      "Benchmark data value count:\n",
      "phishing: 112\n",
      "benign: 215\n"
     ]
    }
   ],
   "source": [
    "# training data\n",
    "train_count = train_data[\"label\"].value_counts()\n",
    "val_count = val_data[\"label\"].value_counts()\n",
    "phish_count = train_count[1] + val_count[1]\n",
    "benign_count = train_count[0] + val_count[0]\n",
    "print(f\"Training and validation data value count:\\nphishing: {phish_count}\\nbenign: {benign_count}\")\n",
    "\n",
    "# benchmark data\n",
    "bench_count = bench_data[\"label\"].value_counts()\n",
    "phish_count = bench_count[1]\n",
    "benign_count = bench_count[0]\n",
    "print(f\"Benchmark data value count:\\nphishing: {phish_count}\\nbenign: {benign_count}\")"
   ]
  },
  {
   "cell_type": "code",
   "execution_count": 5,
   "metadata": {},
   "outputs": [],
   "source": [
    "# intialise model, tokenizer\n",
    "model = ByT5_model.ByT5ForClassification(\n",
    "    model_name='google/byt5-small',\n",
    "    num_labels=2,\n",
    ")\n",
    "tokenizer = ByT5Tokenizer.from_pretrained('google/byt5-small')"
   ]
  },
  {
   "cell_type": "code",
   "execution_count": 6,
   "metadata": {},
   "outputs": [],
   "source": [
    "# hyperparameters\n",
    "BATCH_SIZE = 128\n",
    "training_args = TrainingArguments(\n",
    "    # saving results/checkpoints\n",
    "    output_dir=RESULTS_PATH,\n",
    "    save_total_limit=3,\n",
    "    save_safetensors=False,\n",
    "\n",
    "    # evaluation\n",
    "    eval_strategy=\"epoch\",\n",
    "    eval_steps=1,\n",
    "    load_best_model_at_end=True,\n",
    "    metric_for_best_model='eval_loss',\n",
    "    greater_is_better=False,\n",
    "    \n",
    "    # saving\n",
    "    save_strategy=\"epoch\",\n",
    "    save_steps=1,\n",
    "    save_total_limit=3,\n",
    "\n",
    "    # hyperparameters\n",
    "    learning_rate=0.005,\n",
    "    per_device_train_batch_size=BATCH_SIZE,\n",
    "    per_device_eval_batch_size=BATCH_SIZE,\n",
    "    num_train_epochs=100,\n",
    "    weight_decay=0.01,\n",
    ")"
   ]
  },
  {
   "cell_type": "code",
   "execution_count": 7,
   "metadata": {},
   "outputs": [
    {
     "name": "stdout",
     "output_type": "stream",
     "text": [
      "Preparing data...\n"
     ]
    },
    {
     "data": {
      "application/vnd.jupyter.widget-view+json": {
       "model_id": "0e0f55897f124af4bfae62ed37519aa6",
       "version_major": 2,
       "version_minor": 0
      },
      "text/plain": [
       "Map:   0%|          | 0/2604 [00:00<?, ? examples/s]"
      ]
     },
     "metadata": {},
     "output_type": "display_data"
    },
    {
     "data": {
      "application/vnd.jupyter.widget-view+json": {
       "model_id": "26e0621bcd814363b765e16751928cde",
       "version_major": 2,
       "version_minor": 0
      },
      "text/plain": [
       "Map:   0%|          | 0/325 [00:00<?, ? examples/s]"
      ]
     },
     "metadata": {},
     "output_type": "display_data"
    },
    {
     "name": "stdout",
     "output_type": "stream",
     "text": [
      "Data prepared.\n"
     ]
    },
    {
     "data": {
      "application/vnd.jupyter.widget-view+json": {
       "model_id": "fa64b6381c114908a21295cd5ffce7e4",
       "version_major": 2,
       "version_minor": 0
      },
      "text/plain": [
       "  0%|          | 0/2100 [00:00<?, ?it/s]"
      ]
     },
     "metadata": {},
     "output_type": "display_data"
    },
    {
     "name": "stdout",
     "output_type": "stream",
     "text": [
      "Starting training\n"
     ]
    },
    {
     "data": {
      "application/vnd.jupyter.widget-view+json": {
       "model_id": "e428456ab301460998363101e9ed4f78",
       "version_major": 2,
       "version_minor": 0
      },
      "text/plain": [
       "  0%|          | 0/3 [00:00<?, ?it/s]"
      ]
     },
     "metadata": {},
     "output_type": "display_data"
    },
    {
     "name": "stdout",
     "output_type": "stream",
     "text": [
      "{'eval_loss': 0.6061345934867859, 'eval_runtime': 0.7009, 'eval_samples_per_second': 463.685, 'eval_steps_per_second': 4.28, 'epoch': 1.0}\n"
     ]
    },
    {
     "data": {
      "application/vnd.jupyter.widget-view+json": {
       "model_id": "46d31677998e42e19940aad64e80e341",
       "version_major": 2,
       "version_minor": 0
      },
      "text/plain": [
       "  0%|          | 0/3 [00:00<?, ?it/s]"
      ]
     },
     "metadata": {},
     "output_type": "display_data"
    },
    {
     "name": "stdout",
     "output_type": "stream",
     "text": [
      "{'eval_loss': 0.5833206176757812, 'eval_runtime': 0.6747, 'eval_samples_per_second': 481.707, 'eval_steps_per_second': 4.447, 'epoch': 2.0}\n"
     ]
    },
    {
     "data": {
      "application/vnd.jupyter.widget-view+json": {
       "model_id": "86a93915ba804ccda1f473e1bbb728d9",
       "version_major": 2,
       "version_minor": 0
      },
      "text/plain": [
       "  0%|          | 0/3 [00:00<?, ?it/s]"
      ]
     },
     "metadata": {},
     "output_type": "display_data"
    },
    {
     "name": "stdout",
     "output_type": "stream",
     "text": [
      "{'eval_loss': 0.5603635907173157, 'eval_runtime': 0.6603, 'eval_samples_per_second': 492.215, 'eval_steps_per_second': 4.544, 'epoch': 3.0}\n"
     ]
    },
    {
     "data": {
      "application/vnd.jupyter.widget-view+json": {
       "model_id": "b10e1cb3815f46c9891450daf6d50792",
       "version_major": 2,
       "version_minor": 0
      },
      "text/plain": [
       "  0%|          | 0/3 [00:00<?, ?it/s]"
      ]
     },
     "metadata": {},
     "output_type": "display_data"
    },
    {
     "name": "stdout",
     "output_type": "stream",
     "text": [
      "{'eval_loss': 0.5431685447692871, 'eval_runtime': 0.6673, 'eval_samples_per_second': 487.021, 'eval_steps_per_second': 4.496, 'epoch': 4.0}\n"
     ]
    },
    {
     "data": {
      "application/vnd.jupyter.widget-view+json": {
       "model_id": "6f5a53f210584284a4d470735b1784bb",
       "version_major": 2,
       "version_minor": 0
      },
      "text/plain": [
       "  0%|          | 0/3 [00:00<?, ?it/s]"
      ]
     },
     "metadata": {},
     "output_type": "display_data"
    },
    {
     "name": "stdout",
     "output_type": "stream",
     "text": [
      "{'eval_loss': 0.5282567739486694, 'eval_runtime': 0.6717, 'eval_samples_per_second': 483.823, 'eval_steps_per_second': 4.466, 'epoch': 5.0}\n"
     ]
    },
    {
     "data": {
      "application/vnd.jupyter.widget-view+json": {
       "model_id": "c35a00c942844e578743e703e73e7fc6",
       "version_major": 2,
       "version_minor": 0
      },
      "text/plain": [
       "  0%|          | 0/3 [00:00<?, ?it/s]"
      ]
     },
     "metadata": {},
     "output_type": "display_data"
    },
    {
     "name": "stdout",
     "output_type": "stream",
     "text": [
      "{'eval_loss': 0.5230854153633118, 'eval_runtime': 0.6775, 'eval_samples_per_second': 479.716, 'eval_steps_per_second': 4.428, 'epoch': 6.0}\n"
     ]
    },
    {
     "data": {
      "application/vnd.jupyter.widget-view+json": {
       "model_id": "9bd86583a2144470a29ee01064888c36",
       "version_major": 2,
       "version_minor": 0
      },
      "text/plain": [
       "  0%|          | 0/3 [00:00<?, ?it/s]"
      ]
     },
     "metadata": {},
     "output_type": "display_data"
    },
    {
     "name": "stdout",
     "output_type": "stream",
     "text": [
      "{'eval_loss': 0.5154930949211121, 'eval_runtime': 0.6746, 'eval_samples_per_second': 481.771, 'eval_steps_per_second': 4.447, 'epoch': 7.0}\n"
     ]
    },
    {
     "data": {
      "application/vnd.jupyter.widget-view+json": {
       "model_id": "c2c4ab9c574e47f280f010a99ce8c57a",
       "version_major": 2,
       "version_minor": 0
      },
      "text/plain": [
       "  0%|          | 0/3 [00:00<?, ?it/s]"
      ]
     },
     "metadata": {},
     "output_type": "display_data"
    },
    {
     "name": "stdout",
     "output_type": "stream",
     "text": [
      "{'eval_loss': 0.5136775970458984, 'eval_runtime': 0.6842, 'eval_samples_per_second': 474.98, 'eval_steps_per_second': 4.384, 'epoch': 8.0}\n"
     ]
    },
    {
     "data": {
      "application/vnd.jupyter.widget-view+json": {
       "model_id": "1cba91234ef44e3a93ce3b800bacd505",
       "version_major": 2,
       "version_minor": 0
      },
      "text/plain": [
       "  0%|          | 0/3 [00:00<?, ?it/s]"
      ]
     },
     "metadata": {},
     "output_type": "display_data"
    },
    {
     "name": "stdout",
     "output_type": "stream",
     "text": [
      "{'eval_loss': 0.5059505701065063, 'eval_runtime': 0.6798, 'eval_samples_per_second': 478.101, 'eval_steps_per_second': 4.413, 'epoch': 9.0}\n"
     ]
    },
    {
     "data": {
      "application/vnd.jupyter.widget-view+json": {
       "model_id": "afd947a351cd4022bc677c738e0554f2",
       "version_major": 2,
       "version_minor": 0
      },
      "text/plain": [
       "  0%|          | 0/3 [00:00<?, ?it/s]"
      ]
     },
     "metadata": {},
     "output_type": "display_data"
    },
    {
     "name": "stdout",
     "output_type": "stream",
     "text": [
      "{'eval_loss': 0.4901169538497925, 'eval_runtime': 0.6814, 'eval_samples_per_second': 476.968, 'eval_steps_per_second': 4.403, 'epoch': 10.0}\n"
     ]
    },
    {
     "data": {
      "application/vnd.jupyter.widget-view+json": {
       "model_id": "e0cdfcc46646444eb82b115d8690f7d2",
       "version_major": 2,
       "version_minor": 0
      },
      "text/plain": [
       "  0%|          | 0/3 [00:00<?, ?it/s]"
      ]
     },
     "metadata": {},
     "output_type": "display_data"
    },
    {
     "name": "stdout",
     "output_type": "stream",
     "text": [
      "{'eval_loss': 0.48912137746810913, 'eval_runtime': 0.6824, 'eval_samples_per_second': 476.235, 'eval_steps_per_second': 4.396, 'epoch': 11.0}\n"
     ]
    },
    {
     "data": {
      "application/vnd.jupyter.widget-view+json": {
       "model_id": "3e5f00d7b5714e40a06f2e0fa470815f",
       "version_major": 2,
       "version_minor": 0
      },
      "text/plain": [
       "  0%|          | 0/3 [00:00<?, ?it/s]"
      ]
     },
     "metadata": {},
     "output_type": "display_data"
    },
    {
     "name": "stdout",
     "output_type": "stream",
     "text": [
      "{'eval_loss': 0.4892331063747406, 'eval_runtime': 0.6803, 'eval_samples_per_second': 477.746, 'eval_steps_per_second': 4.41, 'epoch': 12.0}\n"
     ]
    },
    {
     "data": {
      "application/vnd.jupyter.widget-view+json": {
       "model_id": "4d3cfbf611544448831986a44d445de3",
       "version_major": 2,
       "version_minor": 0
      },
      "text/plain": [
       "  0%|          | 0/3 [00:00<?, ?it/s]"
      ]
     },
     "metadata": {},
     "output_type": "display_data"
    },
    {
     "name": "stdout",
     "output_type": "stream",
     "text": [
      "{'eval_loss': 0.486072301864624, 'eval_runtime': 0.6821, 'eval_samples_per_second': 476.441, 'eval_steps_per_second': 4.398, 'epoch': 13.0}\n"
     ]
    },
    {
     "data": {
      "application/vnd.jupyter.widget-view+json": {
       "model_id": "431d240be1044cf8867568b6e28d5a37",
       "version_major": 2,
       "version_minor": 0
      },
      "text/plain": [
       "  0%|          | 0/3 [00:00<?, ?it/s]"
      ]
     },
     "metadata": {},
     "output_type": "display_data"
    },
    {
     "name": "stdout",
     "output_type": "stream",
     "text": [
      "{'eval_loss': 0.4816364049911499, 'eval_runtime': 0.683, 'eval_samples_per_second': 475.811, 'eval_steps_per_second': 4.392, 'epoch': 14.0}\n"
     ]
    },
    {
     "data": {
      "application/vnd.jupyter.widget-view+json": {
       "model_id": "104e809ce5704a77a60bb6802c9053a7",
       "version_major": 2,
       "version_minor": 0
      },
      "text/plain": [
       "  0%|          | 0/3 [00:00<?, ?it/s]"
      ]
     },
     "metadata": {},
     "output_type": "display_data"
    },
    {
     "name": "stdout",
     "output_type": "stream",
     "text": [
      "{'eval_loss': 0.4796181917190552, 'eval_runtime': 0.6844, 'eval_samples_per_second': 474.891, 'eval_steps_per_second': 4.384, 'epoch': 15.0}\n"
     ]
    },
    {
     "data": {
      "application/vnd.jupyter.widget-view+json": {
       "model_id": "dfe8f1cf607248ae936ec579f4e6146e",
       "version_major": 2,
       "version_minor": 0
      },
      "text/plain": [
       "  0%|          | 0/3 [00:00<?, ?it/s]"
      ]
     },
     "metadata": {},
     "output_type": "display_data"
    },
    {
     "name": "stdout",
     "output_type": "stream",
     "text": [
      "{'eval_loss': 0.4825754165649414, 'eval_runtime': 0.6798, 'eval_samples_per_second': 478.077, 'eval_steps_per_second': 4.413, 'epoch': 16.0}\n"
     ]
    },
    {
     "data": {
      "application/vnd.jupyter.widget-view+json": {
       "model_id": "c474454a07b045e98381f5debb5e5008",
       "version_major": 2,
       "version_minor": 0
      },
      "text/plain": [
       "  0%|          | 0/3 [00:00<?, ?it/s]"
      ]
     },
     "metadata": {},
     "output_type": "display_data"
    },
    {
     "name": "stdout",
     "output_type": "stream",
     "text": [
      "{'eval_loss': 0.47316575050354004, 'eval_runtime': 0.7117, 'eval_samples_per_second': 456.654, 'eval_steps_per_second': 4.215, 'epoch': 17.0}\n"
     ]
    },
    {
     "data": {
      "application/vnd.jupyter.widget-view+json": {
       "model_id": "a8359e05aa2a4881ad35dbc69e7736fe",
       "version_major": 2,
       "version_minor": 0
      },
      "text/plain": [
       "  0%|          | 0/3 [00:00<?, ?it/s]"
      ]
     },
     "metadata": {},
     "output_type": "display_data"
    },
    {
     "name": "stdout",
     "output_type": "stream",
     "text": [
      "{'eval_loss': 0.4712654948234558, 'eval_runtime': 0.6811, 'eval_samples_per_second': 477.156, 'eval_steps_per_second': 4.405, 'epoch': 18.0}\n"
     ]
    },
    {
     "data": {
      "application/vnd.jupyter.widget-view+json": {
       "model_id": "e1e2775ef0114031a8f901f7d2b27ded",
       "version_major": 2,
       "version_minor": 0
      },
      "text/plain": [
       "  0%|          | 0/3 [00:00<?, ?it/s]"
      ]
     },
     "metadata": {},
     "output_type": "display_data"
    },
    {
     "name": "stdout",
     "output_type": "stream",
     "text": [
      "{'eval_loss': 0.4728897213935852, 'eval_runtime': 0.6775, 'eval_samples_per_second': 479.726, 'eval_steps_per_second': 4.428, 'epoch': 19.0}\n"
     ]
    },
    {
     "data": {
      "application/vnd.jupyter.widget-view+json": {
       "model_id": "f62a64fd09774dd586bd47744221f5fc",
       "version_major": 2,
       "version_minor": 0
      },
      "text/plain": [
       "  0%|          | 0/3 [00:00<?, ?it/s]"
      ]
     },
     "metadata": {},
     "output_type": "display_data"
    },
    {
     "name": "stdout",
     "output_type": "stream",
     "text": [
      "{'eval_loss': 0.45971614122390747, 'eval_runtime': 0.6795, 'eval_samples_per_second': 478.319, 'eval_steps_per_second': 4.415, 'epoch': 20.0}\n"
     ]
    },
    {
     "data": {
      "application/vnd.jupyter.widget-view+json": {
       "model_id": "cff9aae74fd3478993c5674627e9e1b8",
       "version_major": 2,
       "version_minor": 0
      },
      "text/plain": [
       "  0%|          | 0/3 [00:00<?, ?it/s]"
      ]
     },
     "metadata": {},
     "output_type": "display_data"
    },
    {
     "name": "stdout",
     "output_type": "stream",
     "text": [
      "{'eval_loss': 0.4589879512786865, 'eval_runtime': 0.6855, 'eval_samples_per_second': 474.1, 'eval_steps_per_second': 4.376, 'epoch': 21.0}\n"
     ]
    },
    {
     "data": {
      "application/vnd.jupyter.widget-view+json": {
       "model_id": "00b4c9c70bf14fd48402214be09ea67e",
       "version_major": 2,
       "version_minor": 0
      },
      "text/plain": [
       "  0%|          | 0/3 [00:00<?, ?it/s]"
      ]
     },
     "metadata": {},
     "output_type": "display_data"
    },
    {
     "name": "stdout",
     "output_type": "stream",
     "text": [
      "{'eval_loss': 0.462605357170105, 'eval_runtime': 0.687, 'eval_samples_per_second': 473.103, 'eval_steps_per_second': 4.367, 'epoch': 22.0}\n"
     ]
    },
    {
     "data": {
      "application/vnd.jupyter.widget-view+json": {
       "model_id": "d17261339f8a4036a9bcdcb1f00610de",
       "version_major": 2,
       "version_minor": 0
      },
      "text/plain": [
       "  0%|          | 0/3 [00:00<?, ?it/s]"
      ]
     },
     "metadata": {},
     "output_type": "display_data"
    },
    {
     "name": "stdout",
     "output_type": "stream",
     "text": [
      "{'eval_loss': 0.45482274889945984, 'eval_runtime': 0.6803, 'eval_samples_per_second': 477.697, 'eval_steps_per_second': 4.41, 'epoch': 23.0}\n",
      "{'loss': 0.4714, 'grad_norm': 0.09416351467370987, 'learning_rate': 0.0038095238095238095, 'epoch': 23.81}\n"
     ]
    },
    {
     "data": {
      "application/vnd.jupyter.widget-view+json": {
       "model_id": "fe64a7221c0c49dab7823074f8b7edc5",
       "version_major": 2,
       "version_minor": 0
      },
      "text/plain": [
       "  0%|          | 0/3 [00:00<?, ?it/s]"
      ]
     },
     "metadata": {},
     "output_type": "display_data"
    },
    {
     "name": "stdout",
     "output_type": "stream",
     "text": [
      "{'eval_loss': 0.45652616024017334, 'eval_runtime': 0.6847, 'eval_samples_per_second': 474.664, 'eval_steps_per_second': 4.382, 'epoch': 24.0}\n"
     ]
    },
    {
     "data": {
      "application/vnd.jupyter.widget-view+json": {
       "model_id": "70faf1557bb8459185dc42f65b05ce97",
       "version_major": 2,
       "version_minor": 0
      },
      "text/plain": [
       "  0%|          | 0/3 [00:00<?, ?it/s]"
      ]
     },
     "metadata": {},
     "output_type": "display_data"
    },
    {
     "name": "stdout",
     "output_type": "stream",
     "text": [
      "{'eval_loss': 0.46628761291503906, 'eval_runtime': 0.6818, 'eval_samples_per_second': 476.657, 'eval_steps_per_second': 4.4, 'epoch': 25.0}\n"
     ]
    },
    {
     "data": {
      "application/vnd.jupyter.widget-view+json": {
       "model_id": "c76aa112af8f42f883397b432fa2144a",
       "version_major": 2,
       "version_minor": 0
      },
      "text/plain": [
       "  0%|          | 0/3 [00:00<?, ?it/s]"
      ]
     },
     "metadata": {},
     "output_type": "display_data"
    },
    {
     "name": "stdout",
     "output_type": "stream",
     "text": [
      "{'eval_loss': 0.45567214488983154, 'eval_runtime': 0.6814, 'eval_samples_per_second': 476.952, 'eval_steps_per_second': 4.403, 'epoch': 26.0}\n",
      "{'train_runtime': 191.1002, 'train_samples_per_second': 1362.636, 'train_steps_per_second': 10.989, 'train_loss': 0.4674523007738721, 'epoch': 26.0}\n",
      "Training ended\n"
     ]
    }
   ],
   "source": [
    "# training loop\n",
    "trainer = ByT5_utils.train_ByT5(\n",
    "    model=model,\n",
    "    tokenizer=tokenizer,\n",
    "    train_data=train_data,\n",
    "    val_data=val_data,\n",
    "    training_args=training_args,\n",
    "    patience=3,\n",
    "    )"
   ]
  },
  {
   "cell_type": "code",
   "execution_count": 8,
   "metadata": {},
   "outputs": [
    {
     "data": {
      "application/vnd.jupyter.widget-view+json": {
       "model_id": "fad2c66d5b0d4d608c7af81ac9d232cf",
       "version_major": 2,
       "version_minor": 0
      },
      "text/plain": [
       "  0%|          | 0/3 [00:00<?, ?it/s]"
      ]
     },
     "metadata": {},
     "output_type": "display_data"
    },
    {
     "data": {
      "text/plain": [
       "{'eval_loss': 0.45482274889945984,\n",
       " 'eval_runtime': 0.7088,\n",
       " 'eval_samples_per_second': 458.543,\n",
       " 'eval_steps_per_second': 4.233,\n",
       " 'epoch': 26.0}"
      ]
     },
     "execution_count": 8,
     "metadata": {},
     "output_type": "execute_result"
    }
   ],
   "source": [
    "# evaluate trained model\n",
    "ByT5_utils.evaluate_ByT5(trainer)"
   ]
  },
  {
   "cell_type": "code",
   "execution_count": 9,
   "metadata": {},
   "outputs": [
    {
     "data": {
      "text/plain": [
       "(0, 0.21027812361717224)"
      ]
     },
     "execution_count": 9,
     "metadata": {},
     "output_type": "execute_result"
    }
   ],
   "source": [
    "# predict single url\n",
    "ByT5_utils.predict_single_url(bench_data[\"url\"][0], model, tokenizer)"
   ]
  },
  {
   "cell_type": "code",
   "execution_count": 10,
   "metadata": {},
   "outputs": [
    {
     "name": "stdout",
     "output_type": "stream",
     "text": [
      "Processing 327 samples\n",
      "Done, processed 327 samples\n"
     ]
    }
   ],
   "source": [
    "# predict dataframe\n",
    "y_true, predicted_classes, y_proba = ByT5_utils.predict_dataframe(\n",
    "    bench_data, model, tokenizer, steps=10000)"
   ]
  },
  {
   "cell_type": "code",
   "execution_count": 11,
   "metadata": {},
   "outputs": [
    {
     "data": {
      "text/html": [
       "<div>\n",
       "<style scoped>\n",
       "    .dataframe tbody tr th:only-of-type {\n",
       "        vertical-align: middle;\n",
       "    }\n",
       "\n",
       "    .dataframe tbody tr th {\n",
       "        vertical-align: top;\n",
       "    }\n",
       "\n",
       "    .dataframe thead th {\n",
       "        text-align: right;\n",
       "    }\n",
       "</style>\n",
       "<table border=\"1\" class=\"dataframe\">\n",
       "  <thead>\n",
       "    <tr style=\"text-align: right;\">\n",
       "      <th></th>\n",
       "      <th>0.010</th>\n",
       "      <th>0.009</th>\n",
       "      <th>0.008</th>\n",
       "      <th>0.007</th>\n",
       "      <th>0.006</th>\n",
       "      <th>0.005</th>\n",
       "      <th>0.004</th>\n",
       "      <th>0.003</th>\n",
       "      <th>0.002</th>\n",
       "      <th>0.001</th>\n",
       "      <th>0.000</th>\n",
       "    </tr>\n",
       "  </thead>\n",
       "  <tbody>\n",
       "    <tr>\n",
       "      <th>precision</th>\n",
       "      <td>95.652174</td>\n",
       "      <td>97.727273</td>\n",
       "      <td>97.727273</td>\n",
       "      <td>97.727273</td>\n",
       "      <td>97.727273</td>\n",
       "      <td>97.727273</td>\n",
       "      <td>100.000000</td>\n",
       "      <td>100.000000</td>\n",
       "      <td>100.000000</td>\n",
       "      <td>100.000000</td>\n",
       "      <td>100.000000</td>\n",
       "    </tr>\n",
       "    <tr>\n",
       "      <th>fpr</th>\n",
       "      <td>0.009302</td>\n",
       "      <td>0.004651</td>\n",
       "      <td>0.004651</td>\n",
       "      <td>0.004651</td>\n",
       "      <td>0.004651</td>\n",
       "      <td>0.004651</td>\n",
       "      <td>0.000000</td>\n",
       "      <td>0.000000</td>\n",
       "      <td>0.000000</td>\n",
       "      <td>0.000000</td>\n",
       "      <td>0.000000</td>\n",
       "    </tr>\n",
       "    <tr>\n",
       "      <th>specificity</th>\n",
       "      <td>99.069767</td>\n",
       "      <td>99.534884</td>\n",
       "      <td>99.534884</td>\n",
       "      <td>99.534884</td>\n",
       "      <td>99.534884</td>\n",
       "      <td>99.534884</td>\n",
       "      <td>100.000000</td>\n",
       "      <td>100.000000</td>\n",
       "      <td>100.000000</td>\n",
       "      <td>100.000000</td>\n",
       "      <td>100.000000</td>\n",
       "    </tr>\n",
       "    <tr>\n",
       "      <th>accuracy</th>\n",
       "      <td>78.593272</td>\n",
       "      <td>78.593272</td>\n",
       "      <td>78.593272</td>\n",
       "      <td>78.593272</td>\n",
       "      <td>78.593272</td>\n",
       "      <td>78.593272</td>\n",
       "      <td>76.758410</td>\n",
       "      <td>76.758410</td>\n",
       "      <td>76.758410</td>\n",
       "      <td>76.758410</td>\n",
       "      <td>76.758410</td>\n",
       "    </tr>\n",
       "    <tr>\n",
       "      <th>recall</th>\n",
       "      <td>39.285714</td>\n",
       "      <td>38.392857</td>\n",
       "      <td>38.392857</td>\n",
       "      <td>38.392857</td>\n",
       "      <td>38.392857</td>\n",
       "      <td>38.392857</td>\n",
       "      <td>32.142857</td>\n",
       "      <td>32.142857</td>\n",
       "      <td>32.142857</td>\n",
       "      <td>32.142857</td>\n",
       "      <td>32.142857</td>\n",
       "    </tr>\n",
       "    <tr>\n",
       "      <th>f1_score</th>\n",
       "      <td>55.696203</td>\n",
       "      <td>55.128205</td>\n",
       "      <td>55.128205</td>\n",
       "      <td>55.128205</td>\n",
       "      <td>55.128205</td>\n",
       "      <td>55.128205</td>\n",
       "      <td>48.648649</td>\n",
       "      <td>48.648649</td>\n",
       "      <td>48.648649</td>\n",
       "      <td>48.648649</td>\n",
       "      <td>48.648649</td>\n",
       "    </tr>\n",
       "    <tr>\n",
       "      <th>threshold</th>\n",
       "      <td>0.726365</td>\n",
       "      <td>0.746724</td>\n",
       "      <td>0.746724</td>\n",
       "      <td>0.746724</td>\n",
       "      <td>0.746724</td>\n",
       "      <td>0.746724</td>\n",
       "      <td>0.775377</td>\n",
       "      <td>0.775377</td>\n",
       "      <td>0.775377</td>\n",
       "      <td>0.775377</td>\n",
       "      <td>0.775377</td>\n",
       "    </tr>\n",
       "  </tbody>\n",
       "</table>\n",
       "</div>"
      ],
      "text/plain": [
       "                 0.010      0.009      0.008      0.007      0.006      0.005  \\\n",
       "precision    95.652174  97.727273  97.727273  97.727273  97.727273  97.727273   \n",
       "fpr           0.009302   0.004651   0.004651   0.004651   0.004651   0.004651   \n",
       "specificity  99.069767  99.534884  99.534884  99.534884  99.534884  99.534884   \n",
       "accuracy     78.593272  78.593272  78.593272  78.593272  78.593272  78.593272   \n",
       "recall       39.285714  38.392857  38.392857  38.392857  38.392857  38.392857   \n",
       "f1_score     55.696203  55.128205  55.128205  55.128205  55.128205  55.128205   \n",
       "threshold     0.726365   0.746724   0.746724   0.746724   0.746724   0.746724   \n",
       "\n",
       "                  0.004       0.003       0.002       0.001       0.000  \n",
       "precision    100.000000  100.000000  100.000000  100.000000  100.000000  \n",
       "fpr            0.000000    0.000000    0.000000    0.000000    0.000000  \n",
       "specificity  100.000000  100.000000  100.000000  100.000000  100.000000  \n",
       "accuracy      76.758410   76.758410   76.758410   76.758410   76.758410  \n",
       "recall        32.142857   32.142857   32.142857   32.142857   32.142857  \n",
       "f1_score      48.648649   48.648649   48.648649   48.648649   48.648649  \n",
       "threshold      0.775377    0.775377    0.775377    0.775377    0.775377  "
      ]
     },
     "execution_count": 11,
     "metadata": {},
     "output_type": "execute_result"
    }
   ],
   "source": [
    "# statistics\n",
    "ByT5_utils.fpr_comparison(np.array(y_true), np.array(y_proba))"
   ]
  },
  {
   "cell_type": "code",
   "execution_count": 12,
   "metadata": {},
   "outputs": [
    {
     "data": {
      "image/png": "[encoded data removed]",
      "text/plain": [
       "<Figure size 640x480 with 1 Axes>"
      ]
     },
     "metadata": {},
     "output_type": "display_data"
    }
   ],
   "source": [
    "# Calculate ROC curve\n",
    "fpr, tpr, thresholds = roc_curve(y_true, y_proba)\n",
    "roc_auc = auc(fpr, tpr)\n",
    "# Plot the ROC curve\n",
    "plt.figure()\n",
    "plt.plot(fpr, tpr, label='ROC curve (area = %0.2f)' % roc_auc)\n",
    "plt.plot([0, 1], [0, 1], 'k--', label='No Skill')\n",
    "plt.xlim([0.0, 1.0])\n",
    "plt.ylim([0.0, 1.05])\n",
    "plt.xlabel('False Positive Rate')\n",
    "plt.ylabel('True Positive Rate')\n",
    "plt.title('ROC Curve')\n",
    "plt.legend()\n",
    "plt.show()"
   ]
  },
  {
   "cell_type": "code",
   "execution_count": 13,
   "metadata": {},
   "outputs": [],
   "source": [
    "# saving model\n",
    "if SAVE:\n",
    "    model.model.save_pretrained(f\"{MODEL_PATH}/byt5-model-{SAVE_VERSION}\")\n",
    "    tokenizer.save_pretrained(f\"{MODEL_PATH}/byt5-tokenizer-{SAVE_VERSION}\")"
   ]
  }
 ],
 "metadata": {
  "kernelspec": {
   "display_name": "training",
   "language": "python",
   "name": "python3"
  },
  "language_info": {
   "codemirror_mode": {
    "name": "ipython",
    "version": 3
   },
   "file_extension": ".py",
   "mimetype": "text/x-python",
   "name": "python",
   "nbconvert_exporter": "python",
   "pygments_lexer": "ipython3",
   "version": "3.12.7"
  }
 },
 "nbformat": 4,
 "nbformat_minor": 2
}
