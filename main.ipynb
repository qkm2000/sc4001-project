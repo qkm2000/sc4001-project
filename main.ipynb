{
 "cells": [
  {
   "cell_type": "markdown",
   "metadata": {},
   "source": [
    "# ByT5 Model"
   ]
  },
  {
   "cell_type": "code",
   "execution_count": 26,
   "metadata": {},
   "outputs": [],
   "source": [
    "# imports\n",
    "from transformers import TrainingArguments, ByT5Tokenizer\n",
    "from sklearn.metrics import roc_curve, auc\n",
    "from utils import ByT5_model, ByT5_utils\n",
    "from dotenv import load_dotenv\n",
    "import matplotlib.pyplot as plt\n",
    "import pandas as pd\n",
    "import numpy as np\n",
    "import torch\n",
    "import os"
   ]
  },
  {
   "cell_type": "code",
   "execution_count": 27,
   "metadata": {},
   "outputs": [],
   "source": [
    "load_dotenv()\n",
    "\n",
    "# CONSTANTS\n",
    "SAVE = True\n",
    "VERSION = \"v3\"\n",
    "RESULTS_PATH = os.getenv(\"RESULTS_PATH\")\n",
    "MODEL_PATH = os.getenv(\"MODEL_PATH\")\n",
    "MAX_LENGTH = 100"
   ]
  },
  {
   "cell_type": "code",
   "execution_count": null,
   "metadata": {},
   "outputs": [],
   "source": [
    "# load data\n",
    "# need to put in our data here. the data format expects the following format:\n",
    "# url, label\n",
    "# url is the whole url\n",
    "# label is 0 for non-phishing, and 1 for phishing\n",
    "\n",
    "train_data = pd.read_csv(\"datasets/train.csv\")\n",
    "val_data = pd.read_csv(\"datasets/validation.csv\")\n",
    "bench_data = pd.read_csv(\"datasets/benchmark.csv\")\n",
    "\n",
    "print(f\"{len(train_data)} training samples\")\n",
    "print(f\"{len(val_data)} validation samples\")\n",
    "print(f\"{len(bench_data)} benchmark samples\")"
   ]
  },
  {
   "cell_type": "code",
   "execution_count": null,
   "metadata": {},
   "outputs": [],
   "source": [
    "# training data\n",
    "train_count = train_data[\"label\"].value_counts()\n",
    "val_count = val_data[\"label\"].value_counts()\n",
    "phish_count = train_count[1] + val_count[1]\n",
    "benign_count = train_count[0] + val_count[0]\n",
    "print(f\"Training and validation data value count:\\nphishing: {phish_count}\\nbenign: {benign_count}\")\n",
    "\n",
    "# benchmark data\n",
    "bench_count = bench_data[\"label\"].value_counts()\n",
    "phish_count = bench_count[1]\n",
    "benign_count = bench_count[0]\n",
    "print(f\"Benchmark data value count:\\nphishing: {phish_count}\\nbenign: {benign_count}\")"
   ]
  },
  {
   "cell_type": "code",
   "execution_count": 23,
   "metadata": {},
   "outputs": [],
   "source": [
    "# intialise model, tokenizer\n",
    "model = ByT5_model.ByT5ForClassification(\n",
    "    model_name='google/byt5-small',\n",
    "    num_labels=2,\n",
    ")\n",
    "tokenizer = ByT5Tokenizer.from_pretrained('google/byt5-small')"
   ]
  },
  {
   "cell_type": "code",
   "execution_count": 24,
   "metadata": {},
   "outputs": [],
   "source": [
    "# hyperparameters\n",
    "BATCH_SIZE = 128\n",
    "training_args = TrainingArguments(\n",
    "    # saving results/checkpoints\n",
    "    output_dir=RESULTS_PATH,\n",
    "    save_safetensors=False,\n",
    "\n",
    "    # evaluation\n",
    "    eval_strategy=\"epoch\",\n",
    "    eval_steps=1,\n",
    "    load_best_model_at_end=True,\n",
    "    metric_for_best_model='eval_loss',\n",
    "    greater_is_better=False,\n",
    "    \n",
    "    # saving\n",
    "    save_strategy=\"epoch\",\n",
    "    save_steps=1,\n",
    "    save_total_limit=3,\n",
    "\n",
    "    # hyperparameters\n",
    "    learning_rate=0.005,\n",
    "    per_device_train_batch_size=BATCH_SIZE,\n",
    "    per_device_eval_batch_size=BATCH_SIZE,\n",
    "    num_train_epochs=100,\n",
    "    weight_decay=0.01,\n",
    ")"
   ]
  },
  {
   "cell_type": "code",
   "execution_count": null,
   "metadata": {},
   "outputs": [],
   "source": [
    "# training loop\n",
    "trainer = ByT5_utils.train_ByT5(\n",
    "    model=model,\n",
    "    tokenizer=tokenizer,\n",
    "    train_data=train_data,\n",
    "    val_data=val_data,\n",
    "    training_args=training_args,\n",
    "    patience=3,\n",
    "    max_length=MAX_LENGTH,\n",
    "    )"
   ]
  },
  {
   "cell_type": "code",
   "execution_count": null,
   "metadata": {},
   "outputs": [],
   "source": [
    "# evaluate trained model\n",
    "ByT5_utils.evaluate_ByT5(trainer)"
   ]
  },
  {
   "cell_type": "code",
   "execution_count": 27,
   "metadata": {},
   "outputs": [],
   "source": [
    "# saving model\n",
    "if SAVE:\n",
    "    torch.save(\n",
    "        model.state_dict(),\n",
    "        f\"{MODEL_PATH}/byt5-model-{VERSION}.pth\"\n",
    "    )\n",
    "    tokenizer.save_pretrained(f\"{MODEL_PATH}/byt5-tokenizer-{VERSION}\")"
   ]
  },
  {
   "cell_type": "code",
   "execution_count": 30,
   "metadata": {},
   "outputs": [],
   "source": [
    "# load model\n",
    "if SAVE:\n",
    "    model = ByT5_model.ByT5ForClassification()\n",
    "    model.load_state_dict(torch.load(f\"{MODEL_PATH}/byt5-model-{VERSION}.pth\", weights_only=True))\n",
    "    tokenizer = ByT5Tokenizer.from_pretrained(f\"{MODEL_PATH}/byt5-tokenizer-{VERSION}\")"
   ]
  },
  {
   "cell_type": "code",
   "execution_count": null,
   "metadata": {},
   "outputs": [],
   "source": [
    "# predict single url\n",
    "ByT5_utils.predict_single_url(\n",
    "    bench_data[\"url\"][0],\n",
    "    model,\n",
    "    tokenizer,\n",
    "    max_length=MAX_LENGTH\n",
    ")"
   ]
  },
  {
   "cell_type": "code",
   "execution_count": null,
   "metadata": {},
   "outputs": [],
   "source": [
    "# predict dataframe\n",
    "y_true, predicted_classes, y_proba = ByT5_utils.predict_dataframe(\n",
    "    bench_data,\n",
    "    model,\n",
    "    tokenizer,\n",
    ")"
   ]
  },
  {
   "cell_type": "code",
   "execution_count": null,
   "metadata": {},
   "outputs": [],
   "source": [
    "accuracies = ByT5_utils.calculate_accuracy_at_thresholds(y_true, y_proba)\n",
    "for threshold, accuracy in accuracies:\n",
    "    print(f\"Threshold: {threshold:.2f}, Accuracy: {accuracy:.2f}\")"
   ]
  },
  {
   "cell_type": "code",
   "execution_count": null,
   "metadata": {},
   "outputs": [],
   "source": [
    "# statistics\n",
    "ByT5_utils.fpr_comparison(np.array(y_true), np.array(y_proba))"
   ]
  },
  {
   "cell_type": "code",
   "execution_count": null,
   "metadata": {},
   "outputs": [],
   "source": [
    "# Calculate ROC curve\n",
    "fpr, tpr, thresholds = roc_curve(y_true, y_proba)\n",
    "roc_auc = auc(fpr, tpr)\n",
    "# Plot the ROC curve\n",
    "plt.figure()\n",
    "plt.plot(fpr, tpr, label='ROC curve (area = %0.2f)' % roc_auc)\n",
    "plt.plot([0, 1], [0, 1], 'k--', label='No Skill')\n",
    "plt.xlim([0.0, 1.0])\n",
    "plt.ylim([0.0, 1.0])\n",
    "plt.xlabel('False Positive Rate')\n",
    "plt.ylabel('True Positive Rate')\n",
    "plt.title('ROC Curve')\n",
    "plt.legend()\n",
    "plt.show()"
   ]
  }
 ],
 "metadata": {
  "kernelspec": {
   "display_name": "sc4001-project",
   "language": "python",
   "name": "python3"
  },
  "language_info": {
   "codemirror_mode": {
    "name": "ipython",
    "version": 3
   },
   "file_extension": ".py",
   "mimetype": "text/x-python",
   "name": "python",
   "nbconvert_exporter": "python",
   "pygments_lexer": "ipython3",
   "version": "3.12.7"
  }
 },
 "nbformat": 4,
 "nbformat_minor": 2
}
