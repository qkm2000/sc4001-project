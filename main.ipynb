{
 "cells": [
  {
   "cell_type": "markdown",
   "metadata": {},
   "source": [
    "# ByT5 Model"
   ]
  },
  {
   "cell_type": "code",
   "execution_count": 1,
   "metadata": {},
   "outputs": [],
   "source": [
    "# imports\n",
    "from transformers import TrainingArguments, ByT5Tokenizer\n",
    "from sklearn.metrics import roc_curve, auc\n",
    "from utils import ByT5_model, ByT5_utils\n",
    "from dotenv import load_dotenv\n",
    "import matplotlib.pyplot as plt\n",
    "import pandas as pd\n",
    "import numpy as np\n",
    "import torch\n",
    "import os"
   ]
  },
  {
   "cell_type": "code",
   "execution_count": 2,
   "metadata": {},
   "outputs": [],
   "source": [
    "load_dotenv()\n",
    "\n",
    "# CONSTANTS\n",
    "SAVE = True\n",
    "VERSION = \"v6\"\n",
    "RESULTS_PATH = os.getenv(\"RESULTS_PATH\")\n",
    "MODEL_PATH = os.getenv(\"MODEL_PATH\")\n",
    "MAX_LENGTH = 100"
   ]
  },
  {
   "cell_type": "code",
   "execution_count": 3,
   "metadata": {},
   "outputs": [
    {
     "name": "stdout",
     "output_type": "stream",
     "text": [
      "21050 training samples\n",
      "2631 validation samples\n",
      "2633 benchmark samples\n"
     ]
    }
   ],
   "source": [
    "# load data\n",
    "# need to put in our data here. the data format expects the following format:\n",
    "# url, label\n",
    "# url is the whole url\n",
    "# label is 0 for non-phishing, and 1 for phishing\n",
    "\n",
    "train_data = pd.read_csv(\"datasets/train.csv\")\n",
    "val_data = pd.read_csv(\"datasets/validation.csv\")\n",
    "bench_data = pd.read_csv(\"datasets/benchmark.csv\")\n",
    "\n",
    "print(f\"{len(train_data)} training samples\")\n",
    "print(f\"{len(val_data)} validation samples\")\n",
    "print(f\"{len(bench_data)} benchmark samples\")"
   ]
  },
  {
   "cell_type": "code",
   "execution_count": 4,
   "metadata": {},
   "outputs": [
    {
     "name": "stdout",
     "output_type": "stream",
     "text": [
      "Training data value count:\n",
      "phishing: 6849\n",
      "benign: 14201\n",
      "Validation data value count:\n",
      "phishing: 856\n",
      "benign: 1775\n",
      "Benchmark data value count:\n",
      "phishing: 857\n",
      "benign: 1776\n"
     ]
    }
   ],
   "source": [
    "# training data\n",
    "train_count = train_data[\"label\"].value_counts()\n",
    "phish_count = train_count[1]\n",
    "benign_count = train_count[0]\n",
    "print(f\"Training data value count:\\nphishing: {phish_count}\\nbenign: {benign_count}\")\n",
    "\n",
    "val_count = val_data[\"label\"].value_counts()\n",
    "phish_count = val_count[1]\n",
    "benign_count = val_count[0]\n",
    "print(f\"Validation data value count:\\nphishing: {phish_count}\\nbenign: {benign_count}\")\n",
    "\n",
    "# benchmark data\n",
    "bench_count = bench_data[\"label\"].value_counts()\n",
    "phish_count = bench_count[1]\n",
    "benign_count = bench_count[0]\n",
    "print(f\"Benchmark data value count:\\nphishing: {phish_count}\\nbenign: {benign_count}\")"
   ]
  },
  {
   "cell_type": "code",
   "execution_count": 5,
   "metadata": {},
   "outputs": [],
   "source": [
    "# intialise model, tokenizer\n",
    "model = ByT5_model.ByT5ForClassification(\n",
    "    model_name='google/byt5-small',\n",
    "    num_labels=2,\n",
    "    freeze=True,\n",
    "    encoder_unfrozen_layers=0,\n",
    "    decoder_unfrozen_layers=2,\n",
    ")\n",
    "tokenizer = ByT5Tokenizer.from_pretrained('google/byt5-small')"
   ]
  },
  {
   "cell_type": "code",
   "execution_count": 6,
   "metadata": {},
   "outputs": [],
   "source": [
    "# hyperparameters\n",
    "BATCH_SIZE = 32\n",
    "training_args = TrainingArguments(\n",
    "    # saving results/checkpoints\n",
    "    output_dir=RESULTS_PATH,\n",
    "    save_safetensors=False,\n",
    "\n",
    "    # evaluation\n",
    "    eval_strategy=\"epoch\",\n",
    "    eval_steps=1,\n",
    "    load_best_model_at_end=True,\n",
    "    metric_for_best_model='eval_loss',\n",
    "    greater_is_better=False,\n",
    "    \n",
    "    # saving\n",
    "    save_strategy=\"epoch\",\n",
    "    save_steps=1,\n",
    "    save_total_limit=3,\n",
    "\n",
    "    # hyperparameters\n",
    "    learning_rate=0.005,\n",
    "    per_device_train_batch_size=BATCH_SIZE,\n",
    "    per_device_eval_batch_size=BATCH_SIZE,\n",
    "    num_train_epochs=100,\n",
    "    weight_decay=0.01,\n",
    ")"
   ]
  },
  {
   "cell_type": "code",
   "execution_count": 7,
   "metadata": {},
   "outputs": [
    {
     "name": "stdout",
     "output_type": "stream",
     "text": [
      "Preparing data...\n"
     ]
    },
    {
     "data": {
      "application/vnd.jupyter.widget-view+json": {
       "model_id": "227a46c56a804fcd92879ecfbed53dce",
       "version_major": 2,
       "version_minor": 0
      },
      "text/plain": [
       "Map:   0%|          | 0/21050 [00:00<?, ? examples/s]"
      ]
     },
     "metadata": {},
     "output_type": "display_data"
    },
    {
     "data": {
      "application/vnd.jupyter.widget-view+json": {
       "model_id": "a8e29abcbb2c44908a8c0024952010cb",
       "version_major": 2,
       "version_minor": 0
      },
      "text/plain": [
       "Map:   0%|          | 0/2631 [00:00<?, ? examples/s]"
      ]
     },
     "metadata": {},
     "output_type": "display_data"
    },
    {
     "name": "stdout",
     "output_type": "stream",
     "text": [
      "Data prepared.\n"
     ]
    },
    {
     "data": {
      "application/vnd.jupyter.widget-view+json": {
       "model_id": "0924cd35184a476797aba816fe2934c1",
       "version_major": 2,
       "version_minor": 0
      },
      "text/plain": [
       "  0%|          | 0/65800 [00:00<?, ?it/s]"
      ]
     },
     "metadata": {},
     "output_type": "display_data"
    },
    {
     "name": "stdout",
     "output_type": "stream",
     "text": [
      "Starting training\n",
      "{'loss': 0.3423, 'grad_norm': 2.0162789821624756, 'learning_rate': 0.0049620060790273555, 'epoch': 0.76}\n"
     ]
    },
    {
     "data": {
      "application/vnd.jupyter.widget-view+json": {
       "model_id": "85ab5ef17588465e87fff4ec75fd4633",
       "version_major": 2,
       "version_minor": 0
      },
      "text/plain": [
       "  0%|          | 0/83 [00:00<?, ?it/s]"
      ]
     },
     "metadata": {},
     "output_type": "display_data"
    },
    {
     "name": "stdout",
     "output_type": "stream",
     "text": [
      "{'eval_loss': 0.16486157476902008, 'eval_runtime': 9.606, 'eval_samples_per_second': 273.89, 'eval_steps_per_second': 8.64, 'epoch': 1.0}\n",
      "{'loss': 0.2499, 'grad_norm': 1.0981709957122803, 'learning_rate': 0.004924012158054712, 'epoch': 1.52}\n"
     ]
    },
    {
     "data": {
      "application/vnd.jupyter.widget-view+json": {
       "model_id": "a1bc739b49bc447ebbb86c141fdc2c26",
       "version_major": 2,
       "version_minor": 0
      },
      "text/plain": [
       "  0%|          | 0/83 [00:00<?, ?it/s]"
      ]
     },
     "metadata": {},
     "output_type": "display_data"
    },
    {
     "name": "stdout",
     "output_type": "stream",
     "text": [
      "{'eval_loss': 0.131023570895195, 'eval_runtime': 9.2947, 'eval_samples_per_second': 283.064, 'eval_steps_per_second': 8.93, 'epoch': 2.0}\n",
      "{'loss': 0.2128, 'grad_norm': 0.9620159268379211, 'learning_rate': 0.004886018237082067, 'epoch': 2.28}\n"
     ]
    },
    {
     "data": {
      "application/vnd.jupyter.widget-view+json": {
       "model_id": "b9770f5724fd474c97375ab59eff36d0",
       "version_major": 2,
       "version_minor": 0
      },
      "text/plain": [
       "  0%|          | 0/83 [00:00<?, ?it/s]"
      ]
     },
     "metadata": {},
     "output_type": "display_data"
    },
    {
     "name": "stdout",
     "output_type": "stream",
     "text": [
      "{'eval_loss': 0.1256650984287262, 'eval_runtime': 9.6462, 'eval_samples_per_second': 272.749, 'eval_steps_per_second': 8.604, 'epoch': 3.0}\n",
      "{'loss': 0.191, 'grad_norm': 0.4746047258377075, 'learning_rate': 0.004848024316109423, 'epoch': 3.04}\n",
      "{'loss': 0.2025, 'grad_norm': 2.395197868347168, 'learning_rate': 0.004810030395136778, 'epoch': 3.8}\n"
     ]
    },
    {
     "data": {
      "application/vnd.jupyter.widget-view+json": {
       "model_id": "1f129e6beac64531a9db244597b0fde5",
       "version_major": 2,
       "version_minor": 0
      },
      "text/plain": [
       "  0%|          | 0/83 [00:00<?, ?it/s]"
      ]
     },
     "metadata": {},
     "output_type": "display_data"
    },
    {
     "name": "stdout",
     "output_type": "stream",
     "text": [
      "{'eval_loss': 0.12040996551513672, 'eval_runtime': 9.6548, 'eval_samples_per_second': 272.506, 'eval_steps_per_second': 8.597, 'epoch': 4.0}\n",
      "{'loss': 0.2101, 'grad_norm': 2.942786455154419, 'learning_rate': 0.004772036474164134, 'epoch': 4.56}\n"
     ]
    },
    {
     "data": {
      "application/vnd.jupyter.widget-view+json": {
       "model_id": "bd01439282314ffaafe7e0502d913cee",
       "version_major": 2,
       "version_minor": 0
      },
      "text/plain": [
       "  0%|          | 0/83 [00:00<?, ?it/s]"
      ]
     },
     "metadata": {},
     "output_type": "display_data"
    },
    {
     "name": "stdout",
     "output_type": "stream",
     "text": [
      "{'eval_loss': 0.13604986667633057, 'eval_runtime': 9.6702, 'eval_samples_per_second': 272.074, 'eval_steps_per_second': 8.583, 'epoch': 5.0}\n",
      "{'loss': 0.2027, 'grad_norm': 1.2873793840408325, 'learning_rate': 0.004734042553191489, 'epoch': 5.32}\n"
     ]
    },
    {
     "data": {
      "application/vnd.jupyter.widget-view+json": {
       "model_id": "4a733d47d8294276b52161595fe11fa9",
       "version_major": 2,
       "version_minor": 0
      },
      "text/plain": [
       "  0%|          | 0/83 [00:00<?, ?it/s]"
      ]
     },
     "metadata": {},
     "output_type": "display_data"
    },
    {
     "name": "stdout",
     "output_type": "stream",
     "text": [
      "{'eval_loss': 0.12462000548839569, 'eval_runtime': 9.7411, 'eval_samples_per_second': 270.092, 'eval_steps_per_second': 8.521, 'epoch': 6.0}\n",
      "{'loss': 0.1936, 'grad_norm': 21.460126876831055, 'learning_rate': 0.004696048632218845, 'epoch': 6.08}\n",
      "{'loss': 0.1937, 'grad_norm': 7.268858432769775, 'learning_rate': 0.004658054711246201, 'epoch': 6.84}\n"
     ]
    },
    {
     "data": {
      "application/vnd.jupyter.widget-view+json": {
       "model_id": "32ff4838212c41fda708792e8579c60d",
       "version_major": 2,
       "version_minor": 0
      },
      "text/plain": [
       "  0%|          | 0/83 [00:00<?, ?it/s]"
      ]
     },
     "metadata": {},
     "output_type": "display_data"
    },
    {
     "name": "stdout",
     "output_type": "stream",
     "text": [
      "{'eval_loss': 0.17077435553073883, 'eval_runtime': 9.6255, 'eval_samples_per_second': 273.336, 'eval_steps_per_second': 8.623, 'epoch': 7.0}\n",
      "{'train_runtime': 1423.722, 'train_samples_per_second': 1478.519, 'train_steps_per_second': 46.217, 'train_loss': 0.22134789331446925, 'epoch': 7.0}\n",
      "Training ended\n"
     ]
    }
   ],
   "source": [
    "# training loop\n",
    "trainer = ByT5_utils.train_ByT5(\n",
    "    model=model,\n",
    "    tokenizer=tokenizer,\n",
    "    train_data=train_data,\n",
    "    val_data=val_data,\n",
    "    training_args=training_args,\n",
    "    patience=3,\n",
    "    max_length=MAX_LENGTH,\n",
    "    )"
   ]
  },
  {
   "cell_type": "code",
   "execution_count": 8,
   "metadata": {},
   "outputs": [
    {
     "data": {
      "application/vnd.jupyter.widget-view+json": {
       "model_id": "b33045f89c9d4dcea0f36561e7aeca47",
       "version_major": 2,
       "version_minor": 0
      },
      "text/plain": [
       "  0%|          | 0/83 [00:00<?, ?it/s]"
      ]
     },
     "metadata": {},
     "output_type": "display_data"
    },
    {
     "data": {
      "text/plain": [
       "{'eval_loss': 0.12040996551513672,\n",
       " 'eval_runtime': 9.8282,\n",
       " 'eval_samples_per_second': 267.698,\n",
       " 'eval_steps_per_second': 8.445,\n",
       " 'epoch': 7.0}"
      ]
     },
     "execution_count": 8,
     "metadata": {},
     "output_type": "execute_result"
    }
   ],
   "source": [
    "# evaluate trained model\n",
    "ByT5_utils.evaluate_ByT5(trainer)"
   ]
  },
  {
   "cell_type": "code",
   "execution_count": 9,
   "metadata": {},
   "outputs": [],
   "source": [
    "# saving model\n",
    "if SAVE:\n",
    "    torch.save(\n",
    "        model.state_dict(),\n",
    "        f\"{MODEL_PATH}/byt5-model-{VERSION}.pth\"\n",
    "    )\n",
    "    tokenizer.save_pretrained(f\"{MODEL_PATH}/byt5-tokenizer-{VERSION}\")"
   ]
  },
  {
   "cell_type": "code",
   "execution_count": 10,
   "metadata": {},
   "outputs": [],
   "source": [
    "# load model\n",
    "if SAVE:\n",
    "    model = ByT5_model.ByT5ForClassification()\n",
    "    model.load_state_dict(torch.load(f\"{MODEL_PATH}/byt5-model-{VERSION}.pth\", weights_only=True))\n",
    "    tokenizer = ByT5Tokenizer.from_pretrained(f\"{MODEL_PATH}/byt5-tokenizer-{VERSION}\")"
   ]
  },
  {
   "cell_type": "code",
   "execution_count": 11,
   "metadata": {},
   "outputs": [
    {
     "data": {
      "text/plain": [
       "(0, 0.00047729845391586423)"
      ]
     },
     "execution_count": 11,
     "metadata": {},
     "output_type": "execute_result"
    }
   ],
   "source": [
    "# predict single url\n",
    "ByT5_utils.predict_single_url(\n",
    "    bench_data[\"url\"][0],\n",
    "    model,\n",
    "    tokenizer,\n",
    "    max_length=MAX_LENGTH\n",
    ")"
   ]
  },
  {
   "cell_type": "code",
   "execution_count": 12,
   "metadata": {},
   "outputs": [
    {
     "name": "stdout",
     "output_type": "stream",
     "text": [
      "Processing 2633 samples\n",
      "Processed 1000 samples\n",
      "Processed 2000 samples\n",
      "Done, processed 2633 samples\n"
     ]
    }
   ],
   "source": [
    "# predict dataframe\n",
    "y_true, predicted_classes, y_proba = ByT5_utils.predict_dataframe(\n",
    "    bench_data,\n",
    "    model,\n",
    "    tokenizer,\n",
    "    max_length=MAX_LENGTH\n",
    ")"
   ]
  },
  {
   "cell_type": "code",
   "execution_count": 13,
   "metadata": {},
   "outputs": [
    {
     "name": "stdout",
     "output_type": "stream",
     "text": [
      "Threshold: 0.10, Accuracy: 0.93\n",
      "Threshold: 0.20, Accuracy: 0.94\n",
      "Threshold: 0.30, Accuracy: 0.94\n",
      "Threshold: 0.40, Accuracy: 0.94\n",
      "Threshold: 0.50, Accuracy: 0.94\n",
      "Threshold: 0.60, Accuracy: 0.95\n",
      "Threshold: 0.70, Accuracy: 0.96\n",
      "Threshold: 0.80, Accuracy: 0.96\n",
      "Threshold: 0.90, Accuracy: 0.93\n"
     ]
    }
   ],
   "source": [
    "accuracies = ByT5_utils.calculate_accuracy_at_thresholds(y_true, y_proba)\n",
    "for threshold, accuracy in accuracies:\n",
    "    print(f\"Threshold: {threshold:.2f}, Accuracy: {accuracy:.2f}\")"
   ]
  },
  {
   "cell_type": "code",
   "execution_count": 14,
   "metadata": {},
   "outputs": [
    {
     "data": {
      "text/html": [
       "<div>\n",
       "<style scoped>\n",
       "    .dataframe tbody tr th:only-of-type {\n",
       "        vertical-align: middle;\n",
       "    }\n",
       "\n",
       "    .dataframe tbody tr th {\n",
       "        vertical-align: top;\n",
       "    }\n",
       "\n",
       "    .dataframe thead th {\n",
       "        text-align: right;\n",
       "    }\n",
       "</style>\n",
       "<table border=\"1\" class=\"dataframe\">\n",
       "  <thead>\n",
       "    <tr style=\"text-align: right;\">\n",
       "      <th></th>\n",
       "      <th>0.010</th>\n",
       "      <th>0.009</th>\n",
       "      <th>0.008</th>\n",
       "      <th>0.007</th>\n",
       "      <th>0.006</th>\n",
       "      <th>0.005</th>\n",
       "      <th>0.004</th>\n",
       "      <th>0.003</th>\n",
       "      <th>0.002</th>\n",
       "      <th>0.001</th>\n",
       "      <th>0.000</th>\n",
       "    </tr>\n",
       "  </thead>\n",
       "  <tbody>\n",
       "    <tr>\n",
       "      <th>precision</th>\n",
       "      <td>97.664835</td>\n",
       "      <td>97.896213</td>\n",
       "      <td>98.014184</td>\n",
       "      <td>98.290598</td>\n",
       "      <td>98.552822</td>\n",
       "      <td>98.814815</td>\n",
       "      <td>98.931298</td>\n",
       "      <td>99.217527</td>\n",
       "      <td>99.479167</td>\n",
       "      <td>99.595142</td>\n",
       "      <td>100.000000</td>\n",
       "    </tr>\n",
       "    <tr>\n",
       "      <th>fpr</th>\n",
       "      <td>0.009572</td>\n",
       "      <td>0.008446</td>\n",
       "      <td>0.007883</td>\n",
       "      <td>0.006757</td>\n",
       "      <td>0.005631</td>\n",
       "      <td>0.004505</td>\n",
       "      <td>0.003941</td>\n",
       "      <td>0.002815</td>\n",
       "      <td>0.001689</td>\n",
       "      <td>0.000563</td>\n",
       "      <td>0.000000</td>\n",
       "    </tr>\n",
       "    <tr>\n",
       "      <th>specificity</th>\n",
       "      <td>99.042793</td>\n",
       "      <td>99.155405</td>\n",
       "      <td>99.211712</td>\n",
       "      <td>99.324324</td>\n",
       "      <td>99.436937</td>\n",
       "      <td>99.549550</td>\n",
       "      <td>99.605856</td>\n",
       "      <td>99.718468</td>\n",
       "      <td>99.831081</td>\n",
       "      <td>99.943694</td>\n",
       "      <td>100.000000</td>\n",
       "    </tr>\n",
       "    <tr>\n",
       "      <th>accuracy</th>\n",
       "      <td>93.809343</td>\n",
       "      <td>93.391569</td>\n",
       "      <td>93.163692</td>\n",
       "      <td>93.201671</td>\n",
       "      <td>92.935815</td>\n",
       "      <td>92.480061</td>\n",
       "      <td>91.796430</td>\n",
       "      <td>91.340676</td>\n",
       "      <td>89.099886</td>\n",
       "      <td>76.756551</td>\n",
       "      <td>76.110900</td>\n",
       "    </tr>\n",
       "    <tr>\n",
       "      <th>recall</th>\n",
       "      <td>82.963827</td>\n",
       "      <td>81.446908</td>\n",
       "      <td>80.630105</td>\n",
       "      <td>80.513419</td>\n",
       "      <td>79.463244</td>\n",
       "      <td>77.829638</td>\n",
       "      <td>75.612602</td>\n",
       "      <td>73.978996</td>\n",
       "      <td>66.861144</td>\n",
       "      <td>28.704784</td>\n",
       "      <td>26.604434</td>\n",
       "    </tr>\n",
       "    <tr>\n",
       "      <th>f1_score</th>\n",
       "      <td>89.716088</td>\n",
       "      <td>88.917197</td>\n",
       "      <td>88.476312</td>\n",
       "      <td>88.518281</td>\n",
       "      <td>87.984496</td>\n",
       "      <td>87.075718</td>\n",
       "      <td>85.714286</td>\n",
       "      <td>84.759358</td>\n",
       "      <td>79.972087</td>\n",
       "      <td>44.565217</td>\n",
       "      <td>42.027650</td>\n",
       "    </tr>\n",
       "    <tr>\n",
       "      <th>threshold</th>\n",
       "      <td>0.887360</td>\n",
       "      <td>0.899317</td>\n",
       "      <td>0.906816</td>\n",
       "      <td>0.910806</td>\n",
       "      <td>0.915726</td>\n",
       "      <td>0.926413</td>\n",
       "      <td>0.944589</td>\n",
       "      <td>0.952952</td>\n",
       "      <td>0.971697</td>\n",
       "      <td>0.999609</td>\n",
       "      <td>0.999753</td>\n",
       "    </tr>\n",
       "  </tbody>\n",
       "</table>\n",
       "</div>"
      ],
      "text/plain": [
       "                 0.010      0.009      0.008      0.007      0.006      0.005  \\\n",
       "precision    97.664835  97.896213  98.014184  98.290598  98.552822  98.814815   \n",
       "fpr           0.009572   0.008446   0.007883   0.006757   0.005631   0.004505   \n",
       "specificity  99.042793  99.155405  99.211712  99.324324  99.436937  99.549550   \n",
       "accuracy     93.809343  93.391569  93.163692  93.201671  92.935815  92.480061   \n",
       "recall       82.963827  81.446908  80.630105  80.513419  79.463244  77.829638   \n",
       "f1_score     89.716088  88.917197  88.476312  88.518281  87.984496  87.075718   \n",
       "threshold     0.887360   0.899317   0.906816   0.910806   0.915726   0.926413   \n",
       "\n",
       "                 0.004      0.003      0.002      0.001       0.000  \n",
       "precision    98.931298  99.217527  99.479167  99.595142  100.000000  \n",
       "fpr           0.003941   0.002815   0.001689   0.000563    0.000000  \n",
       "specificity  99.605856  99.718468  99.831081  99.943694  100.000000  \n",
       "accuracy     91.796430  91.340676  89.099886  76.756551   76.110900  \n",
       "recall       75.612602  73.978996  66.861144  28.704784   26.604434  \n",
       "f1_score     85.714286  84.759358  79.972087  44.565217   42.027650  \n",
       "threshold     0.944589   0.952952   0.971697   0.999609    0.999753  "
      ]
     },
     "execution_count": 14,
     "metadata": {},
     "output_type": "execute_result"
    }
   ],
   "source": [
    "# statistics\n",
    "ByT5_utils.fpr_comparison(np.array(y_true), np.array(y_proba))"
   ]
  },
  {
   "cell_type": "code",
   "execution_count": 15,
   "metadata": {},
   "outputs": [
    {
     "data": {
      "image/png": "[encoded data removed]",
      "text/plain": [
       "<Figure size 640x480 with 1 Axes>"
      ]
     },
     "metadata": {},
     "output_type": "display_data"
    }
   ],
   "source": [
    "# Calculate ROC curve\n",
    "fpr, tpr, thresholds = roc_curve(y_true, y_proba)\n",
    "roc_auc = auc(fpr, tpr)\n",
    "# Plot the ROC curve\n",
    "plt.figure()\n",
    "plt.plot(fpr, tpr, label='ROC curve (area = %0.2f)' % roc_auc)\n",
    "plt.plot([0, 1], [0, 1], 'k--', label='No Skill')\n",
    "plt.xlim([0.0, 1.0])\n",
    "plt.ylim([0.0, 1.0])\n",
    "plt.xlabel('False Positive Rate')\n",
    "plt.ylabel('True Positive Rate')\n",
    "plt.title('ROC Curve')\n",
    "plt.legend()\n",
    "plt.show()"
   ]
  }
 ],
 "metadata": {
  "kernelspec": {
   "display_name": "sc4001-project",
   "language": "python",
   "name": "python3"
  },
  "language_info": {
   "codemirror_mode": {
    "name": "ipython",
    "version": 3
   },
   "file_extension": ".py",
   "mimetype": "text/x-python",
   "name": "python",
   "nbconvert_exporter": "python",
   "pygments_lexer": "ipython3",
   "version": "3.12.7"
  }
 },
 "nbformat": 4,
 "nbformat_minor": 2
}
